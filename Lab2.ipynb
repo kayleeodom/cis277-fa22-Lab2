{
  "cells": [
    {
      "cell_type": "markdown",
      "metadata": {},
      "source": [
        "# Lab 2 - Exploratory Data Analysis"
      ]
    },
    {
      "cell_type": "markdown",
      "metadata": {},
      "source": [
        "Make comments along the way/ explaining what I am doing / changing (brief explanation)"
      ]
    },
    {
      "cell_type": "code",
      "execution_count": 247,
      "metadata": {
        "id": "gIWe8vk2fPX7"
      },
      "outputs": [],
      "source": [
        "import pandas as pd"
      ]
    },
    {
      "cell_type": "markdown",
      "metadata": {
        "id": "4N0ty0ecrWcn"
      },
      "source": [
        "## 1. Import Data"
      ]
    },
    {
      "cell_type": "code",
      "execution_count": 248,
      "metadata": {
        "id": "qY7nb0rAgWrr"
      },
      "outputs": [],
      "source": [
        "df = pd.read_csv('imdb-videogames.csv')"
      ]
    },
    {
      "cell_type": "markdown",
      "metadata": {
        "id": "4titwvhQri0o"
      },
      "source": [
        "## 2. Inspect a Portion of the Dataset"
      ]
    },
    {
      "cell_type": "markdown",
      "metadata": {},
      "source": [
        "Allows me to look at some of the first and last datasets. (Get an idea of what the information looks like)"
      ]
    },
    {
      "cell_type": "code",
      "execution_count": 249,
      "metadata": {
        "colab": {
          "base_uri": "https://localhost:8080/",
          "height": 359
        },
        "id": "eIkZ2SBehFrY",
        "outputId": "8952e428-b938-4933-b581-9be7ddf2cdea"
      },
      "outputs": [
        {
          "data": {
            "text/html": [
              "<div>\n",
              "<style scoped>\n",
              "    .dataframe tbody tr th:only-of-type {\n",
              "        vertical-align: middle;\n",
              "    }\n",
              "\n",
              "    .dataframe tbody tr th {\n",
              "        vertical-align: top;\n",
              "    }\n",
              "\n",
              "    .dataframe thead th {\n",
              "        text-align: right;\n",
              "    }\n",
              "</style>\n",
              "<table border=\"1\" class=\"dataframe\">\n",
              "  <thead>\n",
              "    <tr style=\"text-align: right;\">\n",
              "      <th></th>\n",
              "      <th>Unnamed: 0</th>\n",
              "      <th>name</th>\n",
              "      <th>url</th>\n",
              "      <th>year</th>\n",
              "      <th>certificate</th>\n",
              "      <th>rating</th>\n",
              "      <th>votes</th>\n",
              "      <th>plot summary</th>\n",
              "      <th>Action</th>\n",
              "      <th>Adventure</th>\n",
              "      <th>Comedy</th>\n",
              "      <th>Crime</th>\n",
              "      <th>Family</th>\n",
              "      <th>Fantasy</th>\n",
              "      <th>Mystery</th>\n",
              "      <th>Sci-Fi</th>\n",
              "      <th>Thriller</th>\n",
              "    </tr>\n",
              "  </thead>\n",
              "  <tbody>\n",
              "    <tr>\n",
              "      <th>0</th>\n",
              "      <td>0</td>\n",
              "      <td>Spider-Man</td>\n",
              "      <td>https://www.imdb.com/title/tt5807780/?ref_=adv...</td>\n",
              "      <td>2018.0</td>\n",
              "      <td>T</td>\n",
              "      <td>9.2</td>\n",
              "      <td>20,759</td>\n",
              "      <td>When a new villain threatens New York City, Pe...</td>\n",
              "      <td>True</td>\n",
              "      <td>True</td>\n",
              "      <td>False</td>\n",
              "      <td>False</td>\n",
              "      <td>False</td>\n",
              "      <td>True</td>\n",
              "      <td>False</td>\n",
              "      <td>False</td>\n",
              "      <td>False</td>\n",
              "    </tr>\n",
              "    <tr>\n",
              "      <th>1</th>\n",
              "      <td>1</td>\n",
              "      <td>Red Dead Redemption II</td>\n",
              "      <td>https://www.imdb.com/title/tt6161168/?ref_=adv...</td>\n",
              "      <td>2018.0</td>\n",
              "      <td>M</td>\n",
              "      <td>9.7</td>\n",
              "      <td>35,703</td>\n",
              "      <td>Amidst the decline of the Wild West at the tur...</td>\n",
              "      <td>True</td>\n",
              "      <td>True</td>\n",
              "      <td>False</td>\n",
              "      <td>True</td>\n",
              "      <td>False</td>\n",
              "      <td>False</td>\n",
              "      <td>False</td>\n",
              "      <td>False</td>\n",
              "      <td>False</td>\n",
              "    </tr>\n",
              "    <tr>\n",
              "      <th>2</th>\n",
              "      <td>2</td>\n",
              "      <td>Grand Theft Auto V</td>\n",
              "      <td>https://www.imdb.com/title/tt2103188/?ref_=adv...</td>\n",
              "      <td>2013.0</td>\n",
              "      <td>M</td>\n",
              "      <td>9.5</td>\n",
              "      <td>59,986</td>\n",
              "      <td>Three very different criminals team up for a s...</td>\n",
              "      <td>True</td>\n",
              "      <td>False</td>\n",
              "      <td>False</td>\n",
              "      <td>True</td>\n",
              "      <td>False</td>\n",
              "      <td>False</td>\n",
              "      <td>False</td>\n",
              "      <td>False</td>\n",
              "      <td>False</td>\n",
              "    </tr>\n",
              "    <tr>\n",
              "      <th>3</th>\n",
              "      <td>3</td>\n",
              "      <td>God of War</td>\n",
              "      <td>https://www.imdb.com/title/tt5838588/?ref_=adv...</td>\n",
              "      <td>2018.0</td>\n",
              "      <td>M</td>\n",
              "      <td>9.6</td>\n",
              "      <td>26,118</td>\n",
              "      <td>After wiping out the gods of Mount Olympus, Kr...</td>\n",
              "      <td>True</td>\n",
              "      <td>True</td>\n",
              "      <td>False</td>\n",
              "      <td>False</td>\n",
              "      <td>False</td>\n",
              "      <td>False</td>\n",
              "      <td>False</td>\n",
              "      <td>False</td>\n",
              "      <td>False</td>\n",
              "    </tr>\n",
              "    <tr>\n",
              "      <th>4</th>\n",
              "      <td>4</td>\n",
              "      <td>Uncharted 4: A Thief's End</td>\n",
              "      <td>https://www.imdb.com/title/tt3334704/?ref_=adv...</td>\n",
              "      <td>2016.0</td>\n",
              "      <td>T</td>\n",
              "      <td>9.5</td>\n",
              "      <td>28,722</td>\n",
              "      <td>Thrown back into the dangerous underworld he'd...</td>\n",
              "      <td>True</td>\n",
              "      <td>True</td>\n",
              "      <td>False</td>\n",
              "      <td>False</td>\n",
              "      <td>False</td>\n",
              "      <td>False</td>\n",
              "      <td>False</td>\n",
              "      <td>False</td>\n",
              "      <td>False</td>\n",
              "    </tr>\n",
              "  </tbody>\n",
              "</table>\n",
              "</div>"
            ],
            "text/plain": [
              "   Unnamed: 0                        name  \\\n",
              "0           0                  Spider-Man   \n",
              "1           1      Red Dead Redemption II   \n",
              "2           2          Grand Theft Auto V   \n",
              "3           3                  God of War   \n",
              "4           4  Uncharted 4: A Thief's End   \n",
              "\n",
              "                                                 url    year certificate  \\\n",
              "0  https://www.imdb.com/title/tt5807780/?ref_=adv...  2018.0           T   \n",
              "1  https://www.imdb.com/title/tt6161168/?ref_=adv...  2018.0           M   \n",
              "2  https://www.imdb.com/title/tt2103188/?ref_=adv...  2013.0           M   \n",
              "3  https://www.imdb.com/title/tt5838588/?ref_=adv...  2018.0           M   \n",
              "4  https://www.imdb.com/title/tt3334704/?ref_=adv...  2016.0           T   \n",
              "\n",
              "  rating   votes                                       plot summary  Action  \\\n",
              "0    9.2  20,759  When a new villain threatens New York City, Pe...    True   \n",
              "1    9.7  35,703  Amidst the decline of the Wild West at the tur...    True   \n",
              "2    9.5  59,986  Three very different criminals team up for a s...    True   \n",
              "3    9.6  26,118  After wiping out the gods of Mount Olympus, Kr...    True   \n",
              "4    9.5  28,722  Thrown back into the dangerous underworld he'd...    True   \n",
              "\n",
              "   Adventure  Comedy  Crime  Family  Fantasy  Mystery  Sci-Fi  Thriller  \n",
              "0       True   False  False   False     True    False   False     False  \n",
              "1       True   False   True   False    False    False   False     False  \n",
              "2      False   False   True   False    False    False   False     False  \n",
              "3       True   False  False   False    False    False   False     False  \n",
              "4       True   False  False   False    False    False   False     False  "
            ]
          },
          "execution_count": 249,
          "metadata": {},
          "output_type": "execute_result"
        }
      ],
      "source": [
        "df.head(5)"
      ]
    },
    {
      "cell_type": "code",
      "execution_count": 250,
      "metadata": {
        "colab": {
          "base_uri": "https://localhost:8080/",
          "height": 359
        },
        "id": "_GK64h3eydeJ",
        "outputId": "799d5467-32e7-4dcb-b502-1db9f018cfd0"
      },
      "outputs": [
        {
          "data": {
            "text/html": [
              "<div>\n",
              "<style scoped>\n",
              "    .dataframe tbody tr th:only-of-type {\n",
              "        vertical-align: middle;\n",
              "    }\n",
              "\n",
              "    .dataframe tbody tr th {\n",
              "        vertical-align: top;\n",
              "    }\n",
              "\n",
              "    .dataframe thead th {\n",
              "        text-align: right;\n",
              "    }\n",
              "</style>\n",
              "<table border=\"1\" class=\"dataframe\">\n",
              "  <thead>\n",
              "    <tr style=\"text-align: right;\">\n",
              "      <th></th>\n",
              "      <th>Unnamed: 0</th>\n",
              "      <th>name</th>\n",
              "      <th>url</th>\n",
              "      <th>year</th>\n",
              "      <th>certificate</th>\n",
              "      <th>rating</th>\n",
              "      <th>votes</th>\n",
              "      <th>plot summary</th>\n",
              "      <th>Action</th>\n",
              "      <th>Adventure</th>\n",
              "      <th>Comedy</th>\n",
              "      <th>Crime</th>\n",
              "      <th>Family</th>\n",
              "      <th>Fantasy</th>\n",
              "      <th>Mystery</th>\n",
              "      <th>Sci-Fi</th>\n",
              "      <th>Thriller</th>\n",
              "    </tr>\n",
              "  </thead>\n",
              "  <tbody>\n",
              "    <tr>\n",
              "      <th>20795</th>\n",
              "      <td>20793</td>\n",
              "      <td>Boku wa kyoumo kimi o korosu</td>\n",
              "      <td>https://www.imdb.com/title/tt6010652/?ref_=adv...</td>\n",
              "      <td>2016.0</td>\n",
              "      <td>NaN</td>\n",
              "      <td>NaN</td>\n",
              "      <td>NaN</td>\n",
              "      <td>Add a Plot</td>\n",
              "      <td>False</td>\n",
              "      <td>False</td>\n",
              "      <td>False</td>\n",
              "      <td>False</td>\n",
              "      <td>False</td>\n",
              "      <td>False</td>\n",
              "      <td>False</td>\n",
              "      <td>False</td>\n",
              "      <td>True</td>\n",
              "    </tr>\n",
              "    <tr>\n",
              "      <th>20796</th>\n",
              "      <td>20794</td>\n",
              "      <td>Find Me Event</td>\n",
              "      <td>https://www.imdb.com/title/tt2619050/?ref_=adv...</td>\n",
              "      <td>2011.0</td>\n",
              "      <td>NaN</td>\n",
              "      <td>NaN</td>\n",
              "      <td>NaN</td>\n",
              "      <td>Days after being kidnapped and tortured, Denni...</td>\n",
              "      <td>False</td>\n",
              "      <td>False</td>\n",
              "      <td>False</td>\n",
              "      <td>False</td>\n",
              "      <td>False</td>\n",
              "      <td>False</td>\n",
              "      <td>False</td>\n",
              "      <td>False</td>\n",
              "      <td>True</td>\n",
              "    </tr>\n",
              "    <tr>\n",
              "      <th>20797</th>\n",
              "      <td>20795</td>\n",
              "      <td>Spooks</td>\n",
              "      <td>https://www.imdb.com/title/tt4965776/?ref_=adv...</td>\n",
              "      <td>2017.0</td>\n",
              "      <td>NaN</td>\n",
              "      <td>NaN</td>\n",
              "      <td>NaN</td>\n",
              "      <td>Add a Plot</td>\n",
              "      <td>False</td>\n",
              "      <td>False</td>\n",
              "      <td>False</td>\n",
              "      <td>False</td>\n",
              "      <td>False</td>\n",
              "      <td>False</td>\n",
              "      <td>False</td>\n",
              "      <td>False</td>\n",
              "      <td>True</td>\n",
              "    </tr>\n",
              "    <tr>\n",
              "      <th>20798</th>\n",
              "      <td>20796</td>\n",
              "      <td>Bite Marks</td>\n",
              "      <td>https://www.imdb.com/title/tt2797224/?ref_=adv...</td>\n",
              "      <td>2012.0</td>\n",
              "      <td>NaN</td>\n",
              "      <td>NaN</td>\n",
              "      <td>NaN</td>\n",
              "      <td>A demonologist gets in over his head while mak...</td>\n",
              "      <td>False</td>\n",
              "      <td>False</td>\n",
              "      <td>False</td>\n",
              "      <td>False</td>\n",
              "      <td>False</td>\n",
              "      <td>False</td>\n",
              "      <td>False</td>\n",
              "      <td>False</td>\n",
              "      <td>False</td>\n",
              "    </tr>\n",
              "    <tr>\n",
              "      <th>20799</th>\n",
              "      <td>20797</td>\n",
              "      <td>Requiem</td>\n",
              "      <td>https://www.imdb.com/title/tt4396968/?ref_=adv...</td>\n",
              "      <td>2016.0</td>\n",
              "      <td>NaN</td>\n",
              "      <td>NaN</td>\n",
              "      <td>NaN</td>\n",
              "      <td>Add a Plot</td>\n",
              "      <td>False</td>\n",
              "      <td>False</td>\n",
              "      <td>False</td>\n",
              "      <td>False</td>\n",
              "      <td>False</td>\n",
              "      <td>False</td>\n",
              "      <td>False</td>\n",
              "      <td>False</td>\n",
              "      <td>True</td>\n",
              "    </tr>\n",
              "    <tr>\n",
              "      <th>20800</th>\n",
              "      <td>20798</td>\n",
              "      <td>Enjoy Your Power, Enjoy Your Choice</td>\n",
              "      <td>https://www.imdb.com/title/tt3845606/?ref_=adv...</td>\n",
              "      <td>2014.0</td>\n",
              "      <td>NaN</td>\n",
              "      <td>NaN</td>\n",
              "      <td>NaN</td>\n",
              "      <td>Add a Plot</td>\n",
              "      <td>False</td>\n",
              "      <td>False</td>\n",
              "      <td>False</td>\n",
              "      <td>False</td>\n",
              "      <td>False</td>\n",
              "      <td>False</td>\n",
              "      <td>False</td>\n",
              "      <td>False</td>\n",
              "      <td>True</td>\n",
              "    </tr>\n",
              "    <tr>\n",
              "      <th>20801</th>\n",
              "      <td>20799</td>\n",
              "      <td>RedSun2020</td>\n",
              "      <td>https://www.imdb.com/title/tt0790739/?ref_=adv...</td>\n",
              "      <td>2004.0</td>\n",
              "      <td>NaN</td>\n",
              "      <td>NaN</td>\n",
              "      <td>NaN</td>\n",
              "      <td>Joseph gets kidnapped and it's the player's jo...</td>\n",
              "      <td>False</td>\n",
              "      <td>False</td>\n",
              "      <td>False</td>\n",
              "      <td>False</td>\n",
              "      <td>False</td>\n",
              "      <td>False</td>\n",
              "      <td>False</td>\n",
              "      <td>False</td>\n",
              "      <td>True</td>\n",
              "    </tr>\n",
              "    <tr>\n",
              "      <th>20802</th>\n",
              "      <td>20800</td>\n",
              "      <td>Shutter</td>\n",
              "      <td>https://www.imdb.com/title/tt5119948/?ref_=adv...</td>\n",
              "      <td>2015.0</td>\n",
              "      <td>NaN</td>\n",
              "      <td>NaN</td>\n",
              "      <td>NaN</td>\n",
              "      <td>A tech support man who uses a drone to investi...</td>\n",
              "      <td>False</td>\n",
              "      <td>False</td>\n",
              "      <td>False</td>\n",
              "      <td>False</td>\n",
              "      <td>False</td>\n",
              "      <td>False</td>\n",
              "      <td>False</td>\n",
              "      <td>False</td>\n",
              "      <td>True</td>\n",
              "    </tr>\n",
              "    <tr>\n",
              "      <th>20803</th>\n",
              "      <td>20801</td>\n",
              "      <td>The Music Machine</td>\n",
              "      <td>https://www.imdb.com/title/tt5142082/?ref_=adv...</td>\n",
              "      <td>2015.0</td>\n",
              "      <td>NaN</td>\n",
              "      <td>NaN</td>\n",
              "      <td>NaN</td>\n",
              "      <td>A young teenage girl and the ghost of a dead m...</td>\n",
              "      <td>False</td>\n",
              "      <td>False</td>\n",
              "      <td>False</td>\n",
              "      <td>False</td>\n",
              "      <td>False</td>\n",
              "      <td>False</td>\n",
              "      <td>False</td>\n",
              "      <td>False</td>\n",
              "      <td>True</td>\n",
              "    </tr>\n",
              "    <tr>\n",
              "      <th>20804</th>\n",
              "      <td>20802</td>\n",
              "      <td>Cryptic</td>\n",
              "      <td>https://www.imdb.com/title/tt10964974/?ref_=ad...</td>\n",
              "      <td>2020.0</td>\n",
              "      <td>NaN</td>\n",
              "      <td>NaN</td>\n",
              "      <td>NaN</td>\n",
              "      <td>Kidnapped by an insane man and dragged into a ...</td>\n",
              "      <td>False</td>\n",
              "      <td>False</td>\n",
              "      <td>False</td>\n",
              "      <td>False</td>\n",
              "      <td>False</td>\n",
              "      <td>False</td>\n",
              "      <td>False</td>\n",
              "      <td>False</td>\n",
              "      <td>True</td>\n",
              "    </tr>\n",
              "  </tbody>\n",
              "</table>\n",
              "</div>"
            ],
            "text/plain": [
              "       Unnamed: 0                                 name  \\\n",
              "20795       20793         Boku wa kyoumo kimi o korosu   \n",
              "20796       20794                        Find Me Event   \n",
              "20797       20795                               Spooks   \n",
              "20798       20796                           Bite Marks   \n",
              "20799       20797                              Requiem   \n",
              "20800       20798  Enjoy Your Power, Enjoy Your Choice   \n",
              "20801       20799                           RedSun2020   \n",
              "20802       20800                              Shutter   \n",
              "20803       20801                    The Music Machine   \n",
              "20804       20802                              Cryptic   \n",
              "\n",
              "                                                     url    year certificate  \\\n",
              "20795  https://www.imdb.com/title/tt6010652/?ref_=adv...  2016.0         NaN   \n",
              "20796  https://www.imdb.com/title/tt2619050/?ref_=adv...  2011.0         NaN   \n",
              "20797  https://www.imdb.com/title/tt4965776/?ref_=adv...  2017.0         NaN   \n",
              "20798  https://www.imdb.com/title/tt2797224/?ref_=adv...  2012.0         NaN   \n",
              "20799  https://www.imdb.com/title/tt4396968/?ref_=adv...  2016.0         NaN   \n",
              "20800  https://www.imdb.com/title/tt3845606/?ref_=adv...  2014.0         NaN   \n",
              "20801  https://www.imdb.com/title/tt0790739/?ref_=adv...  2004.0         NaN   \n",
              "20802  https://www.imdb.com/title/tt5119948/?ref_=adv...  2015.0         NaN   \n",
              "20803  https://www.imdb.com/title/tt5142082/?ref_=adv...  2015.0         NaN   \n",
              "20804  https://www.imdb.com/title/tt10964974/?ref_=ad...  2020.0         NaN   \n",
              "\n",
              "      rating votes                                       plot summary  Action  \\\n",
              "20795    NaN   NaN                                         Add a Plot   False   \n",
              "20796    NaN   NaN  Days after being kidnapped and tortured, Denni...   False   \n",
              "20797    NaN   NaN                                         Add a Plot   False   \n",
              "20798    NaN   NaN  A demonologist gets in over his head while mak...   False   \n",
              "20799    NaN   NaN                                         Add a Plot   False   \n",
              "20800    NaN   NaN                                         Add a Plot   False   \n",
              "20801    NaN   NaN  Joseph gets kidnapped and it's the player's jo...   False   \n",
              "20802    NaN   NaN  A tech support man who uses a drone to investi...   False   \n",
              "20803    NaN   NaN  A young teenage girl and the ghost of a dead m...   False   \n",
              "20804    NaN   NaN  Kidnapped by an insane man and dragged into a ...   False   \n",
              "\n",
              "       Adventure  Comedy  Crime  Family  Fantasy  Mystery  Sci-Fi  Thriller  \n",
              "20795      False   False  False   False    False    False   False      True  \n",
              "20796      False   False  False   False    False    False   False      True  \n",
              "20797      False   False  False   False    False    False   False      True  \n",
              "20798      False   False  False   False    False    False   False     False  \n",
              "20799      False   False  False   False    False    False   False      True  \n",
              "20800      False   False  False   False    False    False   False      True  \n",
              "20801      False   False  False   False    False    False   False      True  \n",
              "20802      False   False  False   False    False    False   False      True  \n",
              "20803      False   False  False   False    False    False   False      True  \n",
              "20804      False   False  False   False    False    False   False      True  "
            ]
          },
          "execution_count": 250,
          "metadata": {},
          "output_type": "execute_result"
        }
      ],
      "source": [
        "df.tail(10)"
      ]
    },
    {
      "cell_type": "markdown",
      "metadata": {
        "id": "AoN1t0yTr3vt"
      },
      "source": [
        "## 3. Shape and Basic Info about the Dataset"
      ]
    },
    {
      "cell_type": "markdown",
      "metadata": {},
      "source": [
        "This let's me so how many rows and columns there are."
      ]
    },
    {
      "cell_type": "code",
      "execution_count": 251,
      "metadata": {
        "colab": {
          "base_uri": "https://localhost:8080/"
        },
        "id": "eR6x6BUwhptZ",
        "outputId": "e2b94951-3d5d-47bf-e3e4-c5c571d2d879"
      },
      "outputs": [
        {
          "data": {
            "text/plain": [
              "(20805, 17)"
            ]
          },
          "execution_count": 251,
          "metadata": {},
          "output_type": "execute_result"
        }
      ],
      "source": [
        "df.shape"
      ]
    },
    {
      "cell_type": "markdown",
      "metadata": {},
      "source": [
        "Can use this to see the different columns, their value types, and the amount of non-nulls each of them have."
      ]
    },
    {
      "cell_type": "code",
      "execution_count": 252,
      "metadata": {
        "colab": {
          "base_uri": "https://localhost:8080/"
        },
        "id": "kx4xO7-biEGK",
        "outputId": "a5d0a366-f1eb-46e6-a56b-59699a4d9fad"
      },
      "outputs": [
        {
          "name": "stdout",
          "output_type": "stream",
          "text": [
            "<class 'pandas.core.frame.DataFrame'>\n",
            "RangeIndex: 20805 entries, 0 to 20804\n",
            "Data columns (total 17 columns):\n",
            " #   Column        Non-Null Count  Dtype  \n",
            "---  ------        --------------  -----  \n",
            " 0   Unnamed: 0    20805 non-null  int64  \n",
            " 1   name          20805 non-null  object \n",
            " 2   url           20805 non-null  object \n",
            " 3   year          20538 non-null  float64\n",
            " 4   certificate   7905 non-null   object \n",
            " 5   rating        11602 non-null  object \n",
            " 6   votes         11602 non-null  object \n",
            " 7   plot summary  20805 non-null  object \n",
            " 8   Action        20805 non-null  bool   \n",
            " 9   Adventure     20805 non-null  bool   \n",
            " 10  Comedy        20805 non-null  bool   \n",
            " 11  Crime         20805 non-null  bool   \n",
            " 12  Family        20805 non-null  bool   \n",
            " 13  Fantasy       20805 non-null  bool   \n",
            " 14  Mystery       20805 non-null  bool   \n",
            " 15  Sci-Fi        20805 non-null  bool   \n",
            " 16  Thriller      20805 non-null  bool   \n",
            "dtypes: bool(9), float64(1), int64(1), object(6)\n",
            "memory usage: 1.4+ MB\n"
          ]
        }
      ],
      "source": [
        "df.info()"
      ]
    },
    {
      "cell_type": "markdown",
      "metadata": {},
      "source": [
        "The different math outputs with the values in the dataframe."
      ]
    },
    {
      "cell_type": "code",
      "execution_count": 253,
      "metadata": {},
      "outputs": [
        {
          "data": {
            "text/html": [
              "<div>\n",
              "<style scoped>\n",
              "    .dataframe tbody tr th:only-of-type {\n",
              "        vertical-align: middle;\n",
              "    }\n",
              "\n",
              "    .dataframe tbody tr th {\n",
              "        vertical-align: top;\n",
              "    }\n",
              "\n",
              "    .dataframe thead th {\n",
              "        text-align: right;\n",
              "    }\n",
              "</style>\n",
              "<table border=\"1\" class=\"dataframe\">\n",
              "  <thead>\n",
              "    <tr style=\"text-align: right;\">\n",
              "      <th></th>\n",
              "      <th>Unnamed: 0</th>\n",
              "      <th>year</th>\n",
              "    </tr>\n",
              "  </thead>\n",
              "  <tbody>\n",
              "    <tr>\n",
              "      <th>count</th>\n",
              "      <td>20805.000000</td>\n",
              "      <td>20538.000000</td>\n",
              "    </tr>\n",
              "    <tr>\n",
              "      <th>mean</th>\n",
              "      <td>10400.066667</td>\n",
              "      <td>2005.567485</td>\n",
              "    </tr>\n",
              "    <tr>\n",
              "      <th>std</th>\n",
              "      <td>6005.918897</td>\n",
              "      <td>11.846001</td>\n",
              "    </tr>\n",
              "    <tr>\n",
              "      <th>min</th>\n",
              "      <td>0.000000</td>\n",
              "      <td>1952.000000</td>\n",
              "    </tr>\n",
              "    <tr>\n",
              "      <th>25%</th>\n",
              "      <td>5199.000000</td>\n",
              "      <td>1997.000000</td>\n",
              "    </tr>\n",
              "    <tr>\n",
              "      <th>50%</th>\n",
              "      <td>10400.000000</td>\n",
              "      <td>2008.000000</td>\n",
              "    </tr>\n",
              "    <tr>\n",
              "      <th>75%</th>\n",
              "      <td>15601.000000</td>\n",
              "      <td>2016.000000</td>\n",
              "    </tr>\n",
              "    <tr>\n",
              "      <th>max</th>\n",
              "      <td>20802.000000</td>\n",
              "      <td>2027.000000</td>\n",
              "    </tr>\n",
              "  </tbody>\n",
              "</table>\n",
              "</div>"
            ],
            "text/plain": [
              "         Unnamed: 0          year\n",
              "count  20805.000000  20538.000000\n",
              "mean   10400.066667   2005.567485\n",
              "std     6005.918897     11.846001\n",
              "min        0.000000   1952.000000\n",
              "25%     5199.000000   1997.000000\n",
              "50%    10400.000000   2008.000000\n",
              "75%    15601.000000   2016.000000\n",
              "max    20802.000000   2027.000000"
            ]
          },
          "execution_count": 253,
          "metadata": {},
          "output_type": "execute_result"
        }
      ],
      "source": [
        "df.describe()"
      ]
    },
    {
      "cell_type": "code",
      "execution_count": 254,
      "metadata": {},
      "outputs": [
        {
          "data": {
            "text/plain": [
              "array(['20,759', '35,703', '59,986', ..., '5,029', '1,357', '3,025'],\n",
              "      dtype=object)"
            ]
          },
          "execution_count": 254,
          "metadata": {},
          "output_type": "execute_result"
        }
      ],
      "source": [
        "df.votes.unique()"
      ]
    },
    {
      "cell_type": "markdown",
      "metadata": {
        "id": "8qYR0y0MsDz_"
      },
      "source": [
        "## 4. Look for Duplicates"
      ]
    },
    {
      "cell_type": "markdown",
      "metadata": {},
      "source": [
        "Looking for duplicates and the amount that can be found; that's why we use the sum part."
      ]
    },
    {
      "cell_type": "code",
      "execution_count": 255,
      "metadata": {},
      "outputs": [
        {
          "data": {
            "text/plain": [
              "2"
            ]
          },
          "execution_count": 255,
          "metadata": {},
          "output_type": "execute_result"
        }
      ],
      "source": [
        "df.duplicated().sum()"
      ]
    },
    {
      "cell_type": "markdown",
      "metadata": {},
      "source": [
        "This is for dropping any of the duplicates that can be found in the dataframe."
      ]
    },
    {
      "cell_type": "code",
      "execution_count": 256,
      "metadata": {},
      "outputs": [
        {
          "data": {
            "text/html": [
              "<div>\n",
              "<style scoped>\n",
              "    .dataframe tbody tr th:only-of-type {\n",
              "        vertical-align: middle;\n",
              "    }\n",
              "\n",
              "    .dataframe tbody tr th {\n",
              "        vertical-align: top;\n",
              "    }\n",
              "\n",
              "    .dataframe thead th {\n",
              "        text-align: right;\n",
              "    }\n",
              "</style>\n",
              "<table border=\"1\" class=\"dataframe\">\n",
              "  <thead>\n",
              "    <tr style=\"text-align: right;\">\n",
              "      <th></th>\n",
              "      <th>Unnamed: 0</th>\n",
              "      <th>name</th>\n",
              "      <th>url</th>\n",
              "      <th>year</th>\n",
              "      <th>certificate</th>\n",
              "      <th>rating</th>\n",
              "      <th>votes</th>\n",
              "      <th>plot summary</th>\n",
              "      <th>Action</th>\n",
              "      <th>Adventure</th>\n",
              "      <th>Comedy</th>\n",
              "      <th>Crime</th>\n",
              "      <th>Family</th>\n",
              "      <th>Fantasy</th>\n",
              "      <th>Mystery</th>\n",
              "      <th>Sci-Fi</th>\n",
              "      <th>Thriller</th>\n",
              "    </tr>\n",
              "  </thead>\n",
              "  <tbody>\n",
              "    <tr>\n",
              "      <th>0</th>\n",
              "      <td>0</td>\n",
              "      <td>Spider-Man</td>\n",
              "      <td>https://www.imdb.com/title/tt5807780/?ref_=adv...</td>\n",
              "      <td>2018.0</td>\n",
              "      <td>T</td>\n",
              "      <td>9.2</td>\n",
              "      <td>20,759</td>\n",
              "      <td>When a new villain threatens New York City, Pe...</td>\n",
              "      <td>True</td>\n",
              "      <td>True</td>\n",
              "      <td>False</td>\n",
              "      <td>False</td>\n",
              "      <td>False</td>\n",
              "      <td>True</td>\n",
              "      <td>False</td>\n",
              "      <td>False</td>\n",
              "      <td>False</td>\n",
              "    </tr>\n",
              "    <tr>\n",
              "      <th>1</th>\n",
              "      <td>1</td>\n",
              "      <td>Red Dead Redemption II</td>\n",
              "      <td>https://www.imdb.com/title/tt6161168/?ref_=adv...</td>\n",
              "      <td>2018.0</td>\n",
              "      <td>M</td>\n",
              "      <td>9.7</td>\n",
              "      <td>35,703</td>\n",
              "      <td>Amidst the decline of the Wild West at the tur...</td>\n",
              "      <td>True</td>\n",
              "      <td>True</td>\n",
              "      <td>False</td>\n",
              "      <td>True</td>\n",
              "      <td>False</td>\n",
              "      <td>False</td>\n",
              "      <td>False</td>\n",
              "      <td>False</td>\n",
              "      <td>False</td>\n",
              "    </tr>\n",
              "    <tr>\n",
              "      <th>2</th>\n",
              "      <td>2</td>\n",
              "      <td>Grand Theft Auto V</td>\n",
              "      <td>https://www.imdb.com/title/tt2103188/?ref_=adv...</td>\n",
              "      <td>2013.0</td>\n",
              "      <td>M</td>\n",
              "      <td>9.5</td>\n",
              "      <td>59,986</td>\n",
              "      <td>Three very different criminals team up for a s...</td>\n",
              "      <td>True</td>\n",
              "      <td>False</td>\n",
              "      <td>False</td>\n",
              "      <td>True</td>\n",
              "      <td>False</td>\n",
              "      <td>False</td>\n",
              "      <td>False</td>\n",
              "      <td>False</td>\n",
              "      <td>False</td>\n",
              "    </tr>\n",
              "    <tr>\n",
              "      <th>3</th>\n",
              "      <td>3</td>\n",
              "      <td>God of War</td>\n",
              "      <td>https://www.imdb.com/title/tt5838588/?ref_=adv...</td>\n",
              "      <td>2018.0</td>\n",
              "      <td>M</td>\n",
              "      <td>9.6</td>\n",
              "      <td>26,118</td>\n",
              "      <td>After wiping out the gods of Mount Olympus, Kr...</td>\n",
              "      <td>True</td>\n",
              "      <td>True</td>\n",
              "      <td>False</td>\n",
              "      <td>False</td>\n",
              "      <td>False</td>\n",
              "      <td>False</td>\n",
              "      <td>False</td>\n",
              "      <td>False</td>\n",
              "      <td>False</td>\n",
              "    </tr>\n",
              "    <tr>\n",
              "      <th>4</th>\n",
              "      <td>4</td>\n",
              "      <td>Uncharted 4: A Thief's End</td>\n",
              "      <td>https://www.imdb.com/title/tt3334704/?ref_=adv...</td>\n",
              "      <td>2016.0</td>\n",
              "      <td>T</td>\n",
              "      <td>9.5</td>\n",
              "      <td>28,722</td>\n",
              "      <td>Thrown back into the dangerous underworld he'd...</td>\n",
              "      <td>True</td>\n",
              "      <td>True</td>\n",
              "      <td>False</td>\n",
              "      <td>False</td>\n",
              "      <td>False</td>\n",
              "      <td>False</td>\n",
              "      <td>False</td>\n",
              "      <td>False</td>\n",
              "      <td>False</td>\n",
              "    </tr>\n",
              "    <tr>\n",
              "      <th>...</th>\n",
              "      <td>...</td>\n",
              "      <td>...</td>\n",
              "      <td>...</td>\n",
              "      <td>...</td>\n",
              "      <td>...</td>\n",
              "      <td>...</td>\n",
              "      <td>...</td>\n",
              "      <td>...</td>\n",
              "      <td>...</td>\n",
              "      <td>...</td>\n",
              "      <td>...</td>\n",
              "      <td>...</td>\n",
              "      <td>...</td>\n",
              "      <td>...</td>\n",
              "      <td>...</td>\n",
              "      <td>...</td>\n",
              "      <td>...</td>\n",
              "    </tr>\n",
              "    <tr>\n",
              "      <th>20800</th>\n",
              "      <td>20798</td>\n",
              "      <td>Enjoy Your Power, Enjoy Your Choice</td>\n",
              "      <td>https://www.imdb.com/title/tt3845606/?ref_=adv...</td>\n",
              "      <td>2014.0</td>\n",
              "      <td>NaN</td>\n",
              "      <td>NaN</td>\n",
              "      <td>NaN</td>\n",
              "      <td>Add a Plot</td>\n",
              "      <td>False</td>\n",
              "      <td>False</td>\n",
              "      <td>False</td>\n",
              "      <td>False</td>\n",
              "      <td>False</td>\n",
              "      <td>False</td>\n",
              "      <td>False</td>\n",
              "      <td>False</td>\n",
              "      <td>True</td>\n",
              "    </tr>\n",
              "    <tr>\n",
              "      <th>20801</th>\n",
              "      <td>20799</td>\n",
              "      <td>RedSun2020</td>\n",
              "      <td>https://www.imdb.com/title/tt0790739/?ref_=adv...</td>\n",
              "      <td>2004.0</td>\n",
              "      <td>NaN</td>\n",
              "      <td>NaN</td>\n",
              "      <td>NaN</td>\n",
              "      <td>Joseph gets kidnapped and it's the player's jo...</td>\n",
              "      <td>False</td>\n",
              "      <td>False</td>\n",
              "      <td>False</td>\n",
              "      <td>False</td>\n",
              "      <td>False</td>\n",
              "      <td>False</td>\n",
              "      <td>False</td>\n",
              "      <td>False</td>\n",
              "      <td>True</td>\n",
              "    </tr>\n",
              "    <tr>\n",
              "      <th>20802</th>\n",
              "      <td>20800</td>\n",
              "      <td>Shutter</td>\n",
              "      <td>https://www.imdb.com/title/tt5119948/?ref_=adv...</td>\n",
              "      <td>2015.0</td>\n",
              "      <td>NaN</td>\n",
              "      <td>NaN</td>\n",
              "      <td>NaN</td>\n",
              "      <td>A tech support man who uses a drone to investi...</td>\n",
              "      <td>False</td>\n",
              "      <td>False</td>\n",
              "      <td>False</td>\n",
              "      <td>False</td>\n",
              "      <td>False</td>\n",
              "      <td>False</td>\n",
              "      <td>False</td>\n",
              "      <td>False</td>\n",
              "      <td>True</td>\n",
              "    </tr>\n",
              "    <tr>\n",
              "      <th>20803</th>\n",
              "      <td>20801</td>\n",
              "      <td>The Music Machine</td>\n",
              "      <td>https://www.imdb.com/title/tt5142082/?ref_=adv...</td>\n",
              "      <td>2015.0</td>\n",
              "      <td>NaN</td>\n",
              "      <td>NaN</td>\n",
              "      <td>NaN</td>\n",
              "      <td>A young teenage girl and the ghost of a dead m...</td>\n",
              "      <td>False</td>\n",
              "      <td>False</td>\n",
              "      <td>False</td>\n",
              "      <td>False</td>\n",
              "      <td>False</td>\n",
              "      <td>False</td>\n",
              "      <td>False</td>\n",
              "      <td>False</td>\n",
              "      <td>True</td>\n",
              "    </tr>\n",
              "    <tr>\n",
              "      <th>20804</th>\n",
              "      <td>20802</td>\n",
              "      <td>Cryptic</td>\n",
              "      <td>https://www.imdb.com/title/tt10964974/?ref_=ad...</td>\n",
              "      <td>2020.0</td>\n",
              "      <td>NaN</td>\n",
              "      <td>NaN</td>\n",
              "      <td>NaN</td>\n",
              "      <td>Kidnapped by an insane man and dragged into a ...</td>\n",
              "      <td>False</td>\n",
              "      <td>False</td>\n",
              "      <td>False</td>\n",
              "      <td>False</td>\n",
              "      <td>False</td>\n",
              "      <td>False</td>\n",
              "      <td>False</td>\n",
              "      <td>False</td>\n",
              "      <td>True</td>\n",
              "    </tr>\n",
              "  </tbody>\n",
              "</table>\n",
              "<p>20803 rows × 17 columns</p>\n",
              "</div>"
            ],
            "text/plain": [
              "       Unnamed: 0                                 name  \\\n",
              "0               0                           Spider-Man   \n",
              "1               1               Red Dead Redemption II   \n",
              "2               2                   Grand Theft Auto V   \n",
              "3               3                           God of War   \n",
              "4               4           Uncharted 4: A Thief's End   \n",
              "...           ...                                  ...   \n",
              "20800       20798  Enjoy Your Power, Enjoy Your Choice   \n",
              "20801       20799                           RedSun2020   \n",
              "20802       20800                              Shutter   \n",
              "20803       20801                    The Music Machine   \n",
              "20804       20802                              Cryptic   \n",
              "\n",
              "                                                     url    year certificate  \\\n",
              "0      https://www.imdb.com/title/tt5807780/?ref_=adv...  2018.0           T   \n",
              "1      https://www.imdb.com/title/tt6161168/?ref_=adv...  2018.0           M   \n",
              "2      https://www.imdb.com/title/tt2103188/?ref_=adv...  2013.0           M   \n",
              "3      https://www.imdb.com/title/tt5838588/?ref_=adv...  2018.0           M   \n",
              "4      https://www.imdb.com/title/tt3334704/?ref_=adv...  2016.0           T   \n",
              "...                                                  ...     ...         ...   \n",
              "20800  https://www.imdb.com/title/tt3845606/?ref_=adv...  2014.0         NaN   \n",
              "20801  https://www.imdb.com/title/tt0790739/?ref_=adv...  2004.0         NaN   \n",
              "20802  https://www.imdb.com/title/tt5119948/?ref_=adv...  2015.0         NaN   \n",
              "20803  https://www.imdb.com/title/tt5142082/?ref_=adv...  2015.0         NaN   \n",
              "20804  https://www.imdb.com/title/tt10964974/?ref_=ad...  2020.0         NaN   \n",
              "\n",
              "      rating   votes                                       plot summary  \\\n",
              "0        9.2  20,759  When a new villain threatens New York City, Pe...   \n",
              "1        9.7  35,703  Amidst the decline of the Wild West at the tur...   \n",
              "2        9.5  59,986  Three very different criminals team up for a s...   \n",
              "3        9.6  26,118  After wiping out the gods of Mount Olympus, Kr...   \n",
              "4        9.5  28,722  Thrown back into the dangerous underworld he'd...   \n",
              "...      ...     ...                                                ...   \n",
              "20800    NaN     NaN                                         Add a Plot   \n",
              "20801    NaN     NaN  Joseph gets kidnapped and it's the player's jo...   \n",
              "20802    NaN     NaN  A tech support man who uses a drone to investi...   \n",
              "20803    NaN     NaN  A young teenage girl and the ghost of a dead m...   \n",
              "20804    NaN     NaN  Kidnapped by an insane man and dragged into a ...   \n",
              "\n",
              "       Action  Adventure  Comedy  Crime  Family  Fantasy  Mystery  Sci-Fi  \\\n",
              "0        True       True   False  False   False     True    False   False   \n",
              "1        True       True   False   True   False    False    False   False   \n",
              "2        True      False   False   True   False    False    False   False   \n",
              "3        True       True   False  False   False    False    False   False   \n",
              "4        True       True   False  False   False    False    False   False   \n",
              "...       ...        ...     ...    ...     ...      ...      ...     ...   \n",
              "20800   False      False   False  False   False    False    False   False   \n",
              "20801   False      False   False  False   False    False    False   False   \n",
              "20802   False      False   False  False   False    False    False   False   \n",
              "20803   False      False   False  False   False    False    False   False   \n",
              "20804   False      False   False  False   False    False    False   False   \n",
              "\n",
              "       Thriller  \n",
              "0         False  \n",
              "1         False  \n",
              "2         False  \n",
              "3         False  \n",
              "4         False  \n",
              "...         ...  \n",
              "20800      True  \n",
              "20801      True  \n",
              "20802      True  \n",
              "20803      True  \n",
              "20804      True  \n",
              "\n",
              "[20803 rows x 17 columns]"
            ]
          },
          "execution_count": 256,
          "metadata": {},
          "output_type": "execute_result"
        }
      ],
      "source": [
        "df.drop_duplicates(inplace=True)\n",
        "df"
      ]
    },
    {
      "cell_type": "markdown",
      "metadata": {},
      "source": [
        "Ran duplicated again (checking the dataframe for any duplicates) to make sure they were removed."
      ]
    },
    {
      "cell_type": "code",
      "execution_count": 257,
      "metadata": {},
      "outputs": [
        {
          "data": {
            "text/plain": [
              "0"
            ]
          },
          "execution_count": 257,
          "metadata": {},
          "output_type": "execute_result"
        }
      ],
      "source": [
        "df.duplicated().sum()"
      ]
    },
    {
      "cell_type": "markdown",
      "metadata": {
        "id": "v49n0pjypU0H"
      },
      "source": [
        "## 5. Fix Types"
      ]
    },
    {
      "cell_type": "markdown",
      "metadata": {},
      "source": [
        "Allows me to see info (types) about the columns and see the nulls."
      ]
    },
    {
      "cell_type": "code",
      "execution_count": 258,
      "metadata": {
        "colab": {
          "base_uri": "https://localhost:8080/",
          "height": 297
        },
        "id": "XOHIrWXVvjU0",
        "outputId": "fee97ec9-8fae-4b4c-b502-0dd91e3aeff5"
      },
      "outputs": [
        {
          "name": "stdout",
          "output_type": "stream",
          "text": [
            "<class 'pandas.core.frame.DataFrame'>\n",
            "Int64Index: 20803 entries, 0 to 20804\n",
            "Data columns (total 17 columns):\n",
            " #   Column        Non-Null Count  Dtype  \n",
            "---  ------        --------------  -----  \n",
            " 0   Unnamed: 0    20803 non-null  int64  \n",
            " 1   name          20803 non-null  object \n",
            " 2   url           20803 non-null  object \n",
            " 3   year          20536 non-null  float64\n",
            " 4   certificate   7903 non-null   object \n",
            " 5   rating        11600 non-null  object \n",
            " 6   votes         11600 non-null  object \n",
            " 7   plot summary  20803 non-null  object \n",
            " 8   Action        20803 non-null  bool   \n",
            " 9   Adventure     20803 non-null  bool   \n",
            " 10  Comedy        20803 non-null  bool   \n",
            " 11  Crime         20803 non-null  bool   \n",
            " 12  Family        20803 non-null  bool   \n",
            " 13  Fantasy       20803 non-null  bool   \n",
            " 14  Mystery       20803 non-null  bool   \n",
            " 15  Sci-Fi        20803 non-null  bool   \n",
            " 16  Thriller      20803 non-null  bool   \n",
            "dtypes: bool(9), float64(1), int64(1), object(6)\n",
            "memory usage: 1.6+ MB\n"
          ]
        }
      ],
      "source": [
        "df.info()"
      ]
    },
    {
      "cell_type": "markdown",
      "metadata": {},
      "source": [
        "Convert votes to numeric data type"
      ]
    },
    {
      "cell_type": "markdown",
      "metadata": {},
      "source": [
        "First run .types to see the type."
      ]
    },
    {
      "cell_type": "code",
      "execution_count": 259,
      "metadata": {
        "colab": {
          "base_uri": "https://localhost:8080/",
          "height": 297
        },
        "id": "vP-BSVdGmFSq",
        "outputId": "a2f8316b-06bc-44ba-923f-ce2c26e511d9"
      },
      "outputs": [
        {
          "data": {
            "text/plain": [
              "Unnamed: 0        int64\n",
              "name             object\n",
              "url              object\n",
              "year            float64\n",
              "certificate      object\n",
              "rating           object\n",
              "votes            object\n",
              "plot summary     object\n",
              "Action             bool\n",
              "Adventure          bool\n",
              "Comedy             bool\n",
              "Crime              bool\n",
              "Family             bool\n",
              "Fantasy            bool\n",
              "Mystery            bool\n",
              "Sci-Fi             bool\n",
              "Thriller           bool\n",
              "dtype: object"
            ]
          },
          "execution_count": 259,
          "metadata": {},
          "output_type": "execute_result"
        }
      ],
      "source": [
        "df.dtypes"
      ]
    },
    {
      "cell_type": "code",
      "execution_count": 260,
      "metadata": {
        "colab": {
          "base_uri": "https://localhost:8080/"
        },
        "id": "uowkED0rm3gT",
        "outputId": "4f056f2d-af36-4006-98ed-29e4883189e3"
      },
      "outputs": [
        {
          "data": {
            "text/plain": [
              "Index(['Unnamed: 0', 'name', 'url', 'year', 'certificate', 'rating', 'votes',\n",
              "       'plot summary', 'Action', 'Adventure', 'Comedy', 'Crime', 'Family',\n",
              "       'Fantasy', 'Mystery', 'Sci-Fi', 'Thriller'],\n",
              "      dtype='object')"
            ]
          },
          "execution_count": 260,
          "metadata": {},
          "output_type": "execute_result"
        }
      ],
      "source": [
        "df.columns"
      ]
    },
    {
      "cell_type": "markdown",
      "metadata": {},
      "source": [
        "Getting rid of the commas in votes so we can convert votes type to float (had to use str because it's an object datatype right now). Then I put df.head at the bottom to make sure that the type replace was made."
      ]
    },
    {
      "cell_type": "code",
      "execution_count": 261,
      "metadata": {},
      "outputs": [
        {
          "data": {
            "text/html": [
              "<div>\n",
              "<style scoped>\n",
              "    .dataframe tbody tr th:only-of-type {\n",
              "        vertical-align: middle;\n",
              "    }\n",
              "\n",
              "    .dataframe tbody tr th {\n",
              "        vertical-align: top;\n",
              "    }\n",
              "\n",
              "    .dataframe thead th {\n",
              "        text-align: right;\n",
              "    }\n",
              "</style>\n",
              "<table border=\"1\" class=\"dataframe\">\n",
              "  <thead>\n",
              "    <tr style=\"text-align: right;\">\n",
              "      <th></th>\n",
              "      <th>Unnamed: 0</th>\n",
              "      <th>name</th>\n",
              "      <th>url</th>\n",
              "      <th>year</th>\n",
              "      <th>certificate</th>\n",
              "      <th>rating</th>\n",
              "      <th>votes</th>\n",
              "      <th>plot summary</th>\n",
              "      <th>Action</th>\n",
              "      <th>Adventure</th>\n",
              "      <th>Comedy</th>\n",
              "      <th>Crime</th>\n",
              "      <th>Family</th>\n",
              "      <th>Fantasy</th>\n",
              "      <th>Mystery</th>\n",
              "      <th>Sci-Fi</th>\n",
              "      <th>Thriller</th>\n",
              "    </tr>\n",
              "  </thead>\n",
              "  <tbody>\n",
              "    <tr>\n",
              "      <th>0</th>\n",
              "      <td>0</td>\n",
              "      <td>Spider-Man</td>\n",
              "      <td>https://www.imdb.com/title/tt5807780/?ref_=adv...</td>\n",
              "      <td>2018.0</td>\n",
              "      <td>T</td>\n",
              "      <td>9.2</td>\n",
              "      <td>20759</td>\n",
              "      <td>When a new villain threatens New York City, Pe...</td>\n",
              "      <td>True</td>\n",
              "      <td>True</td>\n",
              "      <td>False</td>\n",
              "      <td>False</td>\n",
              "      <td>False</td>\n",
              "      <td>True</td>\n",
              "      <td>False</td>\n",
              "      <td>False</td>\n",
              "      <td>False</td>\n",
              "    </tr>\n",
              "    <tr>\n",
              "      <th>1</th>\n",
              "      <td>1</td>\n",
              "      <td>Red Dead Redemption II</td>\n",
              "      <td>https://www.imdb.com/title/tt6161168/?ref_=adv...</td>\n",
              "      <td>2018.0</td>\n",
              "      <td>M</td>\n",
              "      <td>9.7</td>\n",
              "      <td>35703</td>\n",
              "      <td>Amidst the decline of the Wild West at the tur...</td>\n",
              "      <td>True</td>\n",
              "      <td>True</td>\n",
              "      <td>False</td>\n",
              "      <td>True</td>\n",
              "      <td>False</td>\n",
              "      <td>False</td>\n",
              "      <td>False</td>\n",
              "      <td>False</td>\n",
              "      <td>False</td>\n",
              "    </tr>\n",
              "    <tr>\n",
              "      <th>2</th>\n",
              "      <td>2</td>\n",
              "      <td>Grand Theft Auto V</td>\n",
              "      <td>https://www.imdb.com/title/tt2103188/?ref_=adv...</td>\n",
              "      <td>2013.0</td>\n",
              "      <td>M</td>\n",
              "      <td>9.5</td>\n",
              "      <td>59986</td>\n",
              "      <td>Three very different criminals team up for a s...</td>\n",
              "      <td>True</td>\n",
              "      <td>False</td>\n",
              "      <td>False</td>\n",
              "      <td>True</td>\n",
              "      <td>False</td>\n",
              "      <td>False</td>\n",
              "      <td>False</td>\n",
              "      <td>False</td>\n",
              "      <td>False</td>\n",
              "    </tr>\n",
              "    <tr>\n",
              "      <th>3</th>\n",
              "      <td>3</td>\n",
              "      <td>God of War</td>\n",
              "      <td>https://www.imdb.com/title/tt5838588/?ref_=adv...</td>\n",
              "      <td>2018.0</td>\n",
              "      <td>M</td>\n",
              "      <td>9.6</td>\n",
              "      <td>26118</td>\n",
              "      <td>After wiping out the gods of Mount Olympus, Kr...</td>\n",
              "      <td>True</td>\n",
              "      <td>True</td>\n",
              "      <td>False</td>\n",
              "      <td>False</td>\n",
              "      <td>False</td>\n",
              "      <td>False</td>\n",
              "      <td>False</td>\n",
              "      <td>False</td>\n",
              "      <td>False</td>\n",
              "    </tr>\n",
              "    <tr>\n",
              "      <th>4</th>\n",
              "      <td>4</td>\n",
              "      <td>Uncharted 4: A Thief's End</td>\n",
              "      <td>https://www.imdb.com/title/tt3334704/?ref_=adv...</td>\n",
              "      <td>2016.0</td>\n",
              "      <td>T</td>\n",
              "      <td>9.5</td>\n",
              "      <td>28722</td>\n",
              "      <td>Thrown back into the dangerous underworld he'd...</td>\n",
              "      <td>True</td>\n",
              "      <td>True</td>\n",
              "      <td>False</td>\n",
              "      <td>False</td>\n",
              "      <td>False</td>\n",
              "      <td>False</td>\n",
              "      <td>False</td>\n",
              "      <td>False</td>\n",
              "      <td>False</td>\n",
              "    </tr>\n",
              "  </tbody>\n",
              "</table>\n",
              "</div>"
            ],
            "text/plain": [
              "   Unnamed: 0                        name  \\\n",
              "0           0                  Spider-Man   \n",
              "1           1      Red Dead Redemption II   \n",
              "2           2          Grand Theft Auto V   \n",
              "3           3                  God of War   \n",
              "4           4  Uncharted 4: A Thief's End   \n",
              "\n",
              "                                                 url    year certificate  \\\n",
              "0  https://www.imdb.com/title/tt5807780/?ref_=adv...  2018.0           T   \n",
              "1  https://www.imdb.com/title/tt6161168/?ref_=adv...  2018.0           M   \n",
              "2  https://www.imdb.com/title/tt2103188/?ref_=adv...  2013.0           M   \n",
              "3  https://www.imdb.com/title/tt5838588/?ref_=adv...  2018.0           M   \n",
              "4  https://www.imdb.com/title/tt3334704/?ref_=adv...  2016.0           T   \n",
              "\n",
              "  rating  votes                                       plot summary  Action  \\\n",
              "0    9.2  20759  When a new villain threatens New York City, Pe...    True   \n",
              "1    9.7  35703  Amidst the decline of the Wild West at the tur...    True   \n",
              "2    9.5  59986  Three very different criminals team up for a s...    True   \n",
              "3    9.6  26118  After wiping out the gods of Mount Olympus, Kr...    True   \n",
              "4    9.5  28722  Thrown back into the dangerous underworld he'd...    True   \n",
              "\n",
              "   Adventure  Comedy  Crime  Family  Fantasy  Mystery  Sci-Fi  Thriller  \n",
              "0       True   False  False   False     True    False   False     False  \n",
              "1       True   False   True   False    False    False   False     False  \n",
              "2      False   False   True   False    False    False   False     False  \n",
              "3       True   False  False   False    False    False   False     False  \n",
              "4       True   False  False   False    False    False   False     False  "
            ]
          },
          "execution_count": 261,
          "metadata": {},
          "output_type": "execute_result"
        }
      ],
      "source": [
        "df['votes'] = df['votes'].str.replace(',','')\n",
        "#df\n",
        "df.head()"
      ]
    },
    {
      "cell_type": "markdown",
      "metadata": {},
      "source": [
        "To convert votes to numeric type (cont.)\n",
        "Putting df.info() to make sure votes datatypes is being updated and will be shown in the info of the dataframe."
      ]
    },
    {
      "cell_type": "code",
      "execution_count": 262,
      "metadata": {},
      "outputs": [
        {
          "name": "stdout",
          "output_type": "stream",
          "text": [
            "<class 'pandas.core.frame.DataFrame'>\n",
            "Int64Index: 20803 entries, 0 to 20804\n",
            "Data columns (total 17 columns):\n",
            " #   Column        Non-Null Count  Dtype  \n",
            "---  ------        --------------  -----  \n",
            " 0   Unnamed: 0    20803 non-null  int64  \n",
            " 1   name          20803 non-null  object \n",
            " 2   url           20803 non-null  object \n",
            " 3   year          20536 non-null  float64\n",
            " 4   certificate   7903 non-null   object \n",
            " 5   rating        11600 non-null  object \n",
            " 6   votes         11600 non-null  float64\n",
            " 7   plot summary  20803 non-null  object \n",
            " 8   Action        20803 non-null  bool   \n",
            " 9   Adventure     20803 non-null  bool   \n",
            " 10  Comedy        20803 non-null  bool   \n",
            " 11  Crime         20803 non-null  bool   \n",
            " 12  Family        20803 non-null  bool   \n",
            " 13  Fantasy       20803 non-null  bool   \n",
            " 14  Mystery       20803 non-null  bool   \n",
            " 15  Sci-Fi        20803 non-null  bool   \n",
            " 16  Thriller      20803 non-null  bool   \n",
            "dtypes: bool(9), float64(2), int64(1), object(5)\n",
            "memory usage: 1.6+ MB\n"
          ]
        }
      ],
      "source": [
        "df.votes = pd.to_numeric(df.votes)\n",
        "df.info()\n"
      ]
    },
    {
      "cell_type": "markdown",
      "metadata": {},
      "source": [
        "Now we are going to remove the star from the rating column so we can change the type from object to a numeric type. I think rating should be a type because it would fit the data style a lot of better and makes more sense."
      ]
    },
    {
      "cell_type": "markdown",
      "metadata": {},
      "source": [
        "Ran a rating.value_counts so I could see what the star looked like in the data frame (was a visual representation for myself)"
      ]
    },
    {
      "cell_type": "code",
      "execution_count": 263,
      "metadata": {},
      "outputs": [
        {
          "data": {
            "text/plain": [
              "7.4     493\n",
              "7.5     470\n",
              "7.6     452\n",
              "7.2     450\n",
              "7.8     442\n",
              "       ... \n",
              "1.3       3\n",
              "1.5       3\n",
              "1.4       1\n",
              "*9.0      1\n",
              "1.0       1\n",
              "Name: rating, Length: 87, dtype: int64"
            ]
          },
          "execution_count": 263,
          "metadata": {},
          "output_type": "execute_result"
        }
      ],
      "source": [
        "df.rating.value_counts()"
      ]
    },
    {
      "cell_type": "code",
      "execution_count": 264,
      "metadata": {},
      "outputs": [
        {
          "name": "stderr",
          "output_type": "stream",
          "text": [
            "C:\\Users\\kodom\\AppData\\Local\\Temp\\ipykernel_9988\\1178459733.py:1: FutureWarning: The default value of regex will change from True to False in a future version. In addition, single character regular expressions will *not* be treated as literal strings when regex=True.\n",
            "  df['rating'] = df['rating'].str.replace('*','')\n"
          ]
        },
        {
          "data": {
            "text/plain": [
              "7.4    493\n",
              "7.5    470\n",
              "7.6    452\n",
              "7.2    450\n",
              "7.8    442\n",
              "      ... \n",
              "1.7      4\n",
              "1.5      3\n",
              "1.3      3\n",
              "1.4      1\n",
              "1.0      1\n",
              "Name: rating, Length: 86, dtype: int64"
            ]
          },
          "execution_count": 264,
          "metadata": {},
          "output_type": "execute_result"
        }
      ],
      "source": [
        "df['rating'] = df['rating'].str.replace('*','')\n",
        "df.rating.value_counts()"
      ]
    },
    {
      "cell_type": "markdown",
      "metadata": {},
      "source": [
        "Now that I see the star has been removed from the rating column I want to change it to a numeric type."
      ]
    },
    {
      "cell_type": "code",
      "execution_count": 265,
      "metadata": {},
      "outputs": [
        {
          "name": "stdout",
          "output_type": "stream",
          "text": [
            "<class 'pandas.core.frame.DataFrame'>\n",
            "Int64Index: 20803 entries, 0 to 20804\n",
            "Data columns (total 17 columns):\n",
            " #   Column        Non-Null Count  Dtype  \n",
            "---  ------        --------------  -----  \n",
            " 0   Unnamed: 0    20803 non-null  int64  \n",
            " 1   name          20803 non-null  object \n",
            " 2   url           20803 non-null  object \n",
            " 3   year          20536 non-null  float64\n",
            " 4   certificate   7903 non-null   object \n",
            " 5   rating        11600 non-null  float64\n",
            " 6   votes         11600 non-null  float64\n",
            " 7   plot summary  20803 non-null  object \n",
            " 8   Action        20803 non-null  bool   \n",
            " 9   Adventure     20803 non-null  bool   \n",
            " 10  Comedy        20803 non-null  bool   \n",
            " 11  Crime         20803 non-null  bool   \n",
            " 12  Family        20803 non-null  bool   \n",
            " 13  Fantasy       20803 non-null  bool   \n",
            " 14  Mystery       20803 non-null  bool   \n",
            " 15  Sci-Fi        20803 non-null  bool   \n",
            " 16  Thriller      20803 non-null  bool   \n",
            "dtypes: bool(9), float64(3), int64(1), object(4)\n",
            "memory usage: 1.6+ MB\n"
          ]
        }
      ],
      "source": [
        "df.rating = pd.to_numeric(df.rating)\n",
        "df.info()"
      ]
    },
    {
      "cell_type": "markdown",
      "metadata": {
        "id": "GY36cdUtstuC"
      },
      "source": [
        "## 6. Drop and Rename Columns"
      ]
    },
    {
      "cell_type": "markdown",
      "metadata": {},
      "source": [
        "Changing some of the names to uppercase and see if any of the columns could be dropped. (This just cleans up the dataframe and makes things look better)"
      ]
    },
    {
      "cell_type": "markdown",
      "metadata": {},
      "source": [
        "First we are gonna call all the columns so we can look at the names (see what needs to be changed)."
      ]
    },
    {
      "cell_type": "code",
      "execution_count": 266,
      "metadata": {
        "colab": {
          "base_uri": "https://localhost:8080/"
        },
        "id": "DLCMcPjQmkyL",
        "outputId": "3f0b509d-bc3c-44e1-c546-ee9e176fc276"
      },
      "outputs": [
        {
          "data": {
            "text/plain": [
              "Index(['Unnamed: 0', 'name', 'url', 'year', 'certificate', 'rating', 'votes',\n",
              "       'plot summary', 'Action', 'Adventure', 'Comedy', 'Crime', 'Family',\n",
              "       'Fantasy', 'Mystery', 'Sci-Fi', 'Thriller'],\n",
              "      dtype='object')"
            ]
          },
          "execution_count": 266,
          "metadata": {},
          "output_type": "execute_result"
        }
      ],
      "source": [
        "df.columns"
      ]
    },
    {
      "cell_type": "markdown",
      "metadata": {},
      "source": [
        "Changing names of the columns (making them all capitalized); did this so I could change all the names at once."
      ]
    },
    {
      "cell_type": "code",
      "execution_count": 267,
      "metadata": {},
      "outputs": [
        {
          "data": {
            "text/plain": [
              "Index(['Unnamed: 0', 'Name', 'URL', 'Year', 'Certificate', 'Rating', 'Votes',\n",
              "       'Plot_Summary', 'Action', 'Adventure', 'Comedy', 'Crime', 'Family',\n",
              "       'Fantasy', 'Mystery', 'Sci_Fi', 'Thriller'],\n",
              "      dtype='object')"
            ]
          },
          "execution_count": 267,
          "metadata": {},
          "output_type": "execute_result"
        }
      ],
      "source": [
        "df.columns = ['Unnamed: 0','Name', 'URL', 'Year', 'Certificate', 'Rating', 'Votes',\n",
        "       'Plot_Summary', 'Action', 'Adventure', 'Comedy', 'Crime', 'Family',\n",
        "       'Fantasy', 'Mystery', 'Sci_Fi', 'Thriller']\n",
        "\n",
        "df.columns"
      ]
    },
    {
      "cell_type": "markdown",
      "metadata": {},
      "source": [
        "The code underneath is for dropping one of the columns because I found it unnecessary (unnamed: 0)."
      ]
    },
    {
      "cell_type": "code",
      "execution_count": 268,
      "metadata": {},
      "outputs": [
        {
          "data": {
            "text/html": [
              "<div>\n",
              "<style scoped>\n",
              "    .dataframe tbody tr th:only-of-type {\n",
              "        vertical-align: middle;\n",
              "    }\n",
              "\n",
              "    .dataframe tbody tr th {\n",
              "        vertical-align: top;\n",
              "    }\n",
              "\n",
              "    .dataframe thead th {\n",
              "        text-align: right;\n",
              "    }\n",
              "</style>\n",
              "<table border=\"1\" class=\"dataframe\">\n",
              "  <thead>\n",
              "    <tr style=\"text-align: right;\">\n",
              "      <th></th>\n",
              "      <th>Name</th>\n",
              "      <th>URL</th>\n",
              "      <th>Year</th>\n",
              "      <th>Certificate</th>\n",
              "      <th>Rating</th>\n",
              "      <th>Votes</th>\n",
              "      <th>Plot_Summary</th>\n",
              "      <th>Action</th>\n",
              "      <th>Adventure</th>\n",
              "      <th>Comedy</th>\n",
              "      <th>Crime</th>\n",
              "      <th>Family</th>\n",
              "      <th>Fantasy</th>\n",
              "      <th>Mystery</th>\n",
              "      <th>Sci_Fi</th>\n",
              "      <th>Thriller</th>\n",
              "    </tr>\n",
              "  </thead>\n",
              "  <tbody>\n",
              "    <tr>\n",
              "      <th>0</th>\n",
              "      <td>Spider-Man</td>\n",
              "      <td>https://www.imdb.com/title/tt5807780/?ref_=adv...</td>\n",
              "      <td>2018.0</td>\n",
              "      <td>T</td>\n",
              "      <td>9.2</td>\n",
              "      <td>20759.0</td>\n",
              "      <td>When a new villain threatens New York City, Pe...</td>\n",
              "      <td>True</td>\n",
              "      <td>True</td>\n",
              "      <td>False</td>\n",
              "      <td>False</td>\n",
              "      <td>False</td>\n",
              "      <td>True</td>\n",
              "      <td>False</td>\n",
              "      <td>False</td>\n",
              "      <td>False</td>\n",
              "    </tr>\n",
              "    <tr>\n",
              "      <th>1</th>\n",
              "      <td>Red Dead Redemption II</td>\n",
              "      <td>https://www.imdb.com/title/tt6161168/?ref_=adv...</td>\n",
              "      <td>2018.0</td>\n",
              "      <td>M</td>\n",
              "      <td>9.7</td>\n",
              "      <td>35703.0</td>\n",
              "      <td>Amidst the decline of the Wild West at the tur...</td>\n",
              "      <td>True</td>\n",
              "      <td>True</td>\n",
              "      <td>False</td>\n",
              "      <td>True</td>\n",
              "      <td>False</td>\n",
              "      <td>False</td>\n",
              "      <td>False</td>\n",
              "      <td>False</td>\n",
              "      <td>False</td>\n",
              "    </tr>\n",
              "    <tr>\n",
              "      <th>2</th>\n",
              "      <td>Grand Theft Auto V</td>\n",
              "      <td>https://www.imdb.com/title/tt2103188/?ref_=adv...</td>\n",
              "      <td>2013.0</td>\n",
              "      <td>M</td>\n",
              "      <td>9.5</td>\n",
              "      <td>59986.0</td>\n",
              "      <td>Three very different criminals team up for a s...</td>\n",
              "      <td>True</td>\n",
              "      <td>False</td>\n",
              "      <td>False</td>\n",
              "      <td>True</td>\n",
              "      <td>False</td>\n",
              "      <td>False</td>\n",
              "      <td>False</td>\n",
              "      <td>False</td>\n",
              "      <td>False</td>\n",
              "    </tr>\n",
              "    <tr>\n",
              "      <th>3</th>\n",
              "      <td>God of War</td>\n",
              "      <td>https://www.imdb.com/title/tt5838588/?ref_=adv...</td>\n",
              "      <td>2018.0</td>\n",
              "      <td>M</td>\n",
              "      <td>9.6</td>\n",
              "      <td>26118.0</td>\n",
              "      <td>After wiping out the gods of Mount Olympus, Kr...</td>\n",
              "      <td>True</td>\n",
              "      <td>True</td>\n",
              "      <td>False</td>\n",
              "      <td>False</td>\n",
              "      <td>False</td>\n",
              "      <td>False</td>\n",
              "      <td>False</td>\n",
              "      <td>False</td>\n",
              "      <td>False</td>\n",
              "    </tr>\n",
              "    <tr>\n",
              "      <th>4</th>\n",
              "      <td>Uncharted 4: A Thief's End</td>\n",
              "      <td>https://www.imdb.com/title/tt3334704/?ref_=adv...</td>\n",
              "      <td>2016.0</td>\n",
              "      <td>T</td>\n",
              "      <td>9.5</td>\n",
              "      <td>28722.0</td>\n",
              "      <td>Thrown back into the dangerous underworld he'd...</td>\n",
              "      <td>True</td>\n",
              "      <td>True</td>\n",
              "      <td>False</td>\n",
              "      <td>False</td>\n",
              "      <td>False</td>\n",
              "      <td>False</td>\n",
              "      <td>False</td>\n",
              "      <td>False</td>\n",
              "      <td>False</td>\n",
              "    </tr>\n",
              "    <tr>\n",
              "      <th>...</th>\n",
              "      <td>...</td>\n",
              "      <td>...</td>\n",
              "      <td>...</td>\n",
              "      <td>...</td>\n",
              "      <td>...</td>\n",
              "      <td>...</td>\n",
              "      <td>...</td>\n",
              "      <td>...</td>\n",
              "      <td>...</td>\n",
              "      <td>...</td>\n",
              "      <td>...</td>\n",
              "      <td>...</td>\n",
              "      <td>...</td>\n",
              "      <td>...</td>\n",
              "      <td>...</td>\n",
              "      <td>...</td>\n",
              "    </tr>\n",
              "    <tr>\n",
              "      <th>20800</th>\n",
              "      <td>Enjoy Your Power, Enjoy Your Choice</td>\n",
              "      <td>https://www.imdb.com/title/tt3845606/?ref_=adv...</td>\n",
              "      <td>2014.0</td>\n",
              "      <td>NaN</td>\n",
              "      <td>NaN</td>\n",
              "      <td>NaN</td>\n",
              "      <td>Add a Plot</td>\n",
              "      <td>False</td>\n",
              "      <td>False</td>\n",
              "      <td>False</td>\n",
              "      <td>False</td>\n",
              "      <td>False</td>\n",
              "      <td>False</td>\n",
              "      <td>False</td>\n",
              "      <td>False</td>\n",
              "      <td>True</td>\n",
              "    </tr>\n",
              "    <tr>\n",
              "      <th>20801</th>\n",
              "      <td>RedSun2020</td>\n",
              "      <td>https://www.imdb.com/title/tt0790739/?ref_=adv...</td>\n",
              "      <td>2004.0</td>\n",
              "      <td>NaN</td>\n",
              "      <td>NaN</td>\n",
              "      <td>NaN</td>\n",
              "      <td>Joseph gets kidnapped and it's the player's jo...</td>\n",
              "      <td>False</td>\n",
              "      <td>False</td>\n",
              "      <td>False</td>\n",
              "      <td>False</td>\n",
              "      <td>False</td>\n",
              "      <td>False</td>\n",
              "      <td>False</td>\n",
              "      <td>False</td>\n",
              "      <td>True</td>\n",
              "    </tr>\n",
              "    <tr>\n",
              "      <th>20802</th>\n",
              "      <td>Shutter</td>\n",
              "      <td>https://www.imdb.com/title/tt5119948/?ref_=adv...</td>\n",
              "      <td>2015.0</td>\n",
              "      <td>NaN</td>\n",
              "      <td>NaN</td>\n",
              "      <td>NaN</td>\n",
              "      <td>A tech support man who uses a drone to investi...</td>\n",
              "      <td>False</td>\n",
              "      <td>False</td>\n",
              "      <td>False</td>\n",
              "      <td>False</td>\n",
              "      <td>False</td>\n",
              "      <td>False</td>\n",
              "      <td>False</td>\n",
              "      <td>False</td>\n",
              "      <td>True</td>\n",
              "    </tr>\n",
              "    <tr>\n",
              "      <th>20803</th>\n",
              "      <td>The Music Machine</td>\n",
              "      <td>https://www.imdb.com/title/tt5142082/?ref_=adv...</td>\n",
              "      <td>2015.0</td>\n",
              "      <td>NaN</td>\n",
              "      <td>NaN</td>\n",
              "      <td>NaN</td>\n",
              "      <td>A young teenage girl and the ghost of a dead m...</td>\n",
              "      <td>False</td>\n",
              "      <td>False</td>\n",
              "      <td>False</td>\n",
              "      <td>False</td>\n",
              "      <td>False</td>\n",
              "      <td>False</td>\n",
              "      <td>False</td>\n",
              "      <td>False</td>\n",
              "      <td>True</td>\n",
              "    </tr>\n",
              "    <tr>\n",
              "      <th>20804</th>\n",
              "      <td>Cryptic</td>\n",
              "      <td>https://www.imdb.com/title/tt10964974/?ref_=ad...</td>\n",
              "      <td>2020.0</td>\n",
              "      <td>NaN</td>\n",
              "      <td>NaN</td>\n",
              "      <td>NaN</td>\n",
              "      <td>Kidnapped by an insane man and dragged into a ...</td>\n",
              "      <td>False</td>\n",
              "      <td>False</td>\n",
              "      <td>False</td>\n",
              "      <td>False</td>\n",
              "      <td>False</td>\n",
              "      <td>False</td>\n",
              "      <td>False</td>\n",
              "      <td>False</td>\n",
              "      <td>True</td>\n",
              "    </tr>\n",
              "  </tbody>\n",
              "</table>\n",
              "<p>20803 rows × 16 columns</p>\n",
              "</div>"
            ],
            "text/plain": [
              "                                      Name  \\\n",
              "0                               Spider-Man   \n",
              "1                   Red Dead Redemption II   \n",
              "2                       Grand Theft Auto V   \n",
              "3                               God of War   \n",
              "4               Uncharted 4: A Thief's End   \n",
              "...                                    ...   \n",
              "20800  Enjoy Your Power, Enjoy Your Choice   \n",
              "20801                           RedSun2020   \n",
              "20802                              Shutter   \n",
              "20803                    The Music Machine   \n",
              "20804                              Cryptic   \n",
              "\n",
              "                                                     URL    Year Certificate  \\\n",
              "0      https://www.imdb.com/title/tt5807780/?ref_=adv...  2018.0           T   \n",
              "1      https://www.imdb.com/title/tt6161168/?ref_=adv...  2018.0           M   \n",
              "2      https://www.imdb.com/title/tt2103188/?ref_=adv...  2013.0           M   \n",
              "3      https://www.imdb.com/title/tt5838588/?ref_=adv...  2018.0           M   \n",
              "4      https://www.imdb.com/title/tt3334704/?ref_=adv...  2016.0           T   \n",
              "...                                                  ...     ...         ...   \n",
              "20800  https://www.imdb.com/title/tt3845606/?ref_=adv...  2014.0         NaN   \n",
              "20801  https://www.imdb.com/title/tt0790739/?ref_=adv...  2004.0         NaN   \n",
              "20802  https://www.imdb.com/title/tt5119948/?ref_=adv...  2015.0         NaN   \n",
              "20803  https://www.imdb.com/title/tt5142082/?ref_=adv...  2015.0         NaN   \n",
              "20804  https://www.imdb.com/title/tt10964974/?ref_=ad...  2020.0         NaN   \n",
              "\n",
              "       Rating    Votes                                       Plot_Summary  \\\n",
              "0         9.2  20759.0  When a new villain threatens New York City, Pe...   \n",
              "1         9.7  35703.0  Amidst the decline of the Wild West at the tur...   \n",
              "2         9.5  59986.0  Three very different criminals team up for a s...   \n",
              "3         9.6  26118.0  After wiping out the gods of Mount Olympus, Kr...   \n",
              "4         9.5  28722.0  Thrown back into the dangerous underworld he'd...   \n",
              "...       ...      ...                                                ...   \n",
              "20800     NaN      NaN                                         Add a Plot   \n",
              "20801     NaN      NaN  Joseph gets kidnapped and it's the player's jo...   \n",
              "20802     NaN      NaN  A tech support man who uses a drone to investi...   \n",
              "20803     NaN      NaN  A young teenage girl and the ghost of a dead m...   \n",
              "20804     NaN      NaN  Kidnapped by an insane man and dragged into a ...   \n",
              "\n",
              "       Action  Adventure  Comedy  Crime  Family  Fantasy  Mystery  Sci_Fi  \\\n",
              "0        True       True   False  False   False     True    False   False   \n",
              "1        True       True   False   True   False    False    False   False   \n",
              "2        True      False   False   True   False    False    False   False   \n",
              "3        True       True   False  False   False    False    False   False   \n",
              "4        True       True   False  False   False    False    False   False   \n",
              "...       ...        ...     ...    ...     ...      ...      ...     ...   \n",
              "20800   False      False   False  False   False    False    False   False   \n",
              "20801   False      False   False  False   False    False    False   False   \n",
              "20802   False      False   False  False   False    False    False   False   \n",
              "20803   False      False   False  False   False    False    False   False   \n",
              "20804   False      False   False  False   False    False    False   False   \n",
              "\n",
              "       Thriller  \n",
              "0         False  \n",
              "1         False  \n",
              "2         False  \n",
              "3         False  \n",
              "4         False  \n",
              "...         ...  \n",
              "20800      True  \n",
              "20801      True  \n",
              "20802      True  \n",
              "20803      True  \n",
              "20804      True  \n",
              "\n",
              "[20803 rows x 16 columns]"
            ]
          },
          "execution_count": 268,
          "metadata": {},
          "output_type": "execute_result"
        }
      ],
      "source": [
        "df = df.drop(['Unnamed: 0'], axis=1)\n",
        "df"
      ]
    },
    {
      "cell_type": "markdown",
      "metadata": {},
      "source": [
        "Next I am going to remove the star from rating so I then convert the rating column to a numeric type. This would make more sence for the type of data that is in this column."
      ]
    },
    {
      "cell_type": "markdown",
      "metadata": {},
      "source": [
        "## 7. Fix Nulls"
      ]
    },
    {
      "cell_type": "markdown",
      "metadata": {},
      "source": [
        "Give narrative to what null change I choose"
      ]
    },
    {
      "cell_type": "code",
      "execution_count": 269,
      "metadata": {},
      "outputs": [
        {
          "data": {
            "text/html": [
              "<div>\n",
              "<style scoped>\n",
              "    .dataframe tbody tr th:only-of-type {\n",
              "        vertical-align: middle;\n",
              "    }\n",
              "\n",
              "    .dataframe tbody tr th {\n",
              "        vertical-align: top;\n",
              "    }\n",
              "\n",
              "    .dataframe thead th {\n",
              "        text-align: right;\n",
              "    }\n",
              "</style>\n",
              "<table border=\"1\" class=\"dataframe\">\n",
              "  <thead>\n",
              "    <tr style=\"text-align: right;\">\n",
              "      <th></th>\n",
              "      <th>Name</th>\n",
              "      <th>URL</th>\n",
              "      <th>Year</th>\n",
              "      <th>Certificate</th>\n",
              "      <th>Rating</th>\n",
              "      <th>Votes</th>\n",
              "      <th>Plot_Summary</th>\n",
              "      <th>Action</th>\n",
              "      <th>Adventure</th>\n",
              "      <th>Comedy</th>\n",
              "      <th>Crime</th>\n",
              "      <th>Family</th>\n",
              "      <th>Fantasy</th>\n",
              "      <th>Mystery</th>\n",
              "      <th>Sci_Fi</th>\n",
              "      <th>Thriller</th>\n",
              "    </tr>\n",
              "  </thead>\n",
              "  <tbody>\n",
              "  </tbody>\n",
              "</table>\n",
              "</div>"
            ],
            "text/plain": [
              "Empty DataFrame\n",
              "Columns: [Name, URL, Year, Certificate, Rating, Votes, Plot_Summary, Action, Adventure, Comedy, Crime, Family, Fantasy, Mystery, Sci_Fi, Thriller]\n",
              "Index: []"
            ]
          },
          "execution_count": 269,
          "metadata": {},
          "output_type": "execute_result"
        }
      ],
      "source": [
        "df[(df.Rating.isnull()) & (~df.Votes.isnull())]\n",
        "#df[(df.Rating.isnull()) & (df.Votes.notna())]\n"
      ]
    },
    {
      "cell_type": "markdown",
      "metadata": {},
      "source": [
        "Doing this to see what columns have nulls in them."
      ]
    },
    {
      "cell_type": "code",
      "execution_count": 270,
      "metadata": {},
      "outputs": [
        {
          "name": "stdout",
          "output_type": "stream",
          "text": [
            "<class 'pandas.core.frame.DataFrame'>\n",
            "Int64Index: 20803 entries, 0 to 20804\n",
            "Data columns (total 16 columns):\n",
            " #   Column        Non-Null Count  Dtype  \n",
            "---  ------        --------------  -----  \n",
            " 0   Name          20803 non-null  object \n",
            " 1   URL           20803 non-null  object \n",
            " 2   Year          20536 non-null  float64\n",
            " 3   Certificate   7903 non-null   object \n",
            " 4   Rating        11600 non-null  float64\n",
            " 5   Votes         11600 non-null  float64\n",
            " 6   Plot_Summary  20803 non-null  object \n",
            " 7   Action        20803 non-null  bool   \n",
            " 8   Adventure     20803 non-null  bool   \n",
            " 9   Comedy        20803 non-null  bool   \n",
            " 10  Crime         20803 non-null  bool   \n",
            " 11  Family        20803 non-null  bool   \n",
            " 12  Fantasy       20803 non-null  bool   \n",
            " 13  Mystery       20803 non-null  bool   \n",
            " 14  Sci_Fi        20803 non-null  bool   \n",
            " 15  Thriller      20803 non-null  bool   \n",
            "dtypes: bool(9), float64(3), object(4)\n",
            "memory usage: 1.4+ MB\n"
          ]
        }
      ],
      "source": [
        "df.info()"
      ]
    },
    {
      "cell_type": "markdown",
      "metadata": {},
      "source": [
        "Leaving year as Nans instead of changing it to a 0 because by changing them it would impact the math that could be done on that column. Possible skewing and messing up the average and mean. "
      ]
    },
    {
      "cell_type": "code",
      "execution_count": 271,
      "metadata": {},
      "outputs": [
        {
          "data": {
            "text/html": [
              "<div>\n",
              "<style scoped>\n",
              "    .dataframe tbody tr th:only-of-type {\n",
              "        vertical-align: middle;\n",
              "    }\n",
              "\n",
              "    .dataframe tbody tr th {\n",
              "        vertical-align: top;\n",
              "    }\n",
              "\n",
              "    .dataframe thead th {\n",
              "        text-align: right;\n",
              "    }\n",
              "</style>\n",
              "<table border=\"1\" class=\"dataframe\">\n",
              "  <thead>\n",
              "    <tr style=\"text-align: right;\">\n",
              "      <th></th>\n",
              "      <th>Name</th>\n",
              "      <th>URL</th>\n",
              "      <th>Year</th>\n",
              "      <th>Certificate</th>\n",
              "      <th>Rating</th>\n",
              "      <th>Votes</th>\n",
              "      <th>Plot_Summary</th>\n",
              "      <th>Action</th>\n",
              "      <th>Adventure</th>\n",
              "      <th>Comedy</th>\n",
              "      <th>Crime</th>\n",
              "      <th>Family</th>\n",
              "      <th>Fantasy</th>\n",
              "      <th>Mystery</th>\n",
              "      <th>Sci_Fi</th>\n",
              "      <th>Thriller</th>\n",
              "    </tr>\n",
              "  </thead>\n",
              "  <tbody>\n",
              "    <tr>\n",
              "      <th>0</th>\n",
              "      <td>Spider-Man</td>\n",
              "      <td>https://www.imdb.com/title/tt5807780/?ref_=adv...</td>\n",
              "      <td>2018.0</td>\n",
              "      <td>T</td>\n",
              "      <td>9.2</td>\n",
              "      <td>20759.0</td>\n",
              "      <td>When a new villain threatens New York City, Pe...</td>\n",
              "      <td>True</td>\n",
              "      <td>True</td>\n",
              "      <td>False</td>\n",
              "      <td>False</td>\n",
              "      <td>False</td>\n",
              "      <td>True</td>\n",
              "      <td>False</td>\n",
              "      <td>False</td>\n",
              "      <td>False</td>\n",
              "    </tr>\n",
              "    <tr>\n",
              "      <th>1</th>\n",
              "      <td>Red Dead Redemption II</td>\n",
              "      <td>https://www.imdb.com/title/tt6161168/?ref_=adv...</td>\n",
              "      <td>2018.0</td>\n",
              "      <td>M</td>\n",
              "      <td>9.7</td>\n",
              "      <td>35703.0</td>\n",
              "      <td>Amidst the decline of the Wild West at the tur...</td>\n",
              "      <td>True</td>\n",
              "      <td>True</td>\n",
              "      <td>False</td>\n",
              "      <td>True</td>\n",
              "      <td>False</td>\n",
              "      <td>False</td>\n",
              "      <td>False</td>\n",
              "      <td>False</td>\n",
              "      <td>False</td>\n",
              "    </tr>\n",
              "    <tr>\n",
              "      <th>2</th>\n",
              "      <td>Grand Theft Auto V</td>\n",
              "      <td>https://www.imdb.com/title/tt2103188/?ref_=adv...</td>\n",
              "      <td>2013.0</td>\n",
              "      <td>M</td>\n",
              "      <td>9.5</td>\n",
              "      <td>59986.0</td>\n",
              "      <td>Three very different criminals team up for a s...</td>\n",
              "      <td>True</td>\n",
              "      <td>False</td>\n",
              "      <td>False</td>\n",
              "      <td>True</td>\n",
              "      <td>False</td>\n",
              "      <td>False</td>\n",
              "      <td>False</td>\n",
              "      <td>False</td>\n",
              "      <td>False</td>\n",
              "    </tr>\n",
              "    <tr>\n",
              "      <th>3</th>\n",
              "      <td>God of War</td>\n",
              "      <td>https://www.imdb.com/title/tt5838588/?ref_=adv...</td>\n",
              "      <td>2018.0</td>\n",
              "      <td>M</td>\n",
              "      <td>9.6</td>\n",
              "      <td>26118.0</td>\n",
              "      <td>After wiping out the gods of Mount Olympus, Kr...</td>\n",
              "      <td>True</td>\n",
              "      <td>True</td>\n",
              "      <td>False</td>\n",
              "      <td>False</td>\n",
              "      <td>False</td>\n",
              "      <td>False</td>\n",
              "      <td>False</td>\n",
              "      <td>False</td>\n",
              "      <td>False</td>\n",
              "    </tr>\n",
              "    <tr>\n",
              "      <th>4</th>\n",
              "      <td>Uncharted 4: A Thief's End</td>\n",
              "      <td>https://www.imdb.com/title/tt3334704/?ref_=adv...</td>\n",
              "      <td>2016.0</td>\n",
              "      <td>T</td>\n",
              "      <td>9.5</td>\n",
              "      <td>28722.0</td>\n",
              "      <td>Thrown back into the dangerous underworld he'd...</td>\n",
              "      <td>True</td>\n",
              "      <td>True</td>\n",
              "      <td>False</td>\n",
              "      <td>False</td>\n",
              "      <td>False</td>\n",
              "      <td>False</td>\n",
              "      <td>False</td>\n",
              "      <td>False</td>\n",
              "      <td>False</td>\n",
              "    </tr>\n",
              "    <tr>\n",
              "      <th>...</th>\n",
              "      <td>...</td>\n",
              "      <td>...</td>\n",
              "      <td>...</td>\n",
              "      <td>...</td>\n",
              "      <td>...</td>\n",
              "      <td>...</td>\n",
              "      <td>...</td>\n",
              "      <td>...</td>\n",
              "      <td>...</td>\n",
              "      <td>...</td>\n",
              "      <td>...</td>\n",
              "      <td>...</td>\n",
              "      <td>...</td>\n",
              "      <td>...</td>\n",
              "      <td>...</td>\n",
              "      <td>...</td>\n",
              "    </tr>\n",
              "    <tr>\n",
              "      <th>20800</th>\n",
              "      <td>Enjoy Your Power, Enjoy Your Choice</td>\n",
              "      <td>https://www.imdb.com/title/tt3845606/?ref_=adv...</td>\n",
              "      <td>2014.0</td>\n",
              "      <td>NaN</td>\n",
              "      <td>Unrated</td>\n",
              "      <td>NaN</td>\n",
              "      <td>Add a Plot</td>\n",
              "      <td>False</td>\n",
              "      <td>False</td>\n",
              "      <td>False</td>\n",
              "      <td>False</td>\n",
              "      <td>False</td>\n",
              "      <td>False</td>\n",
              "      <td>False</td>\n",
              "      <td>False</td>\n",
              "      <td>True</td>\n",
              "    </tr>\n",
              "    <tr>\n",
              "      <th>20801</th>\n",
              "      <td>RedSun2020</td>\n",
              "      <td>https://www.imdb.com/title/tt0790739/?ref_=adv...</td>\n",
              "      <td>2004.0</td>\n",
              "      <td>NaN</td>\n",
              "      <td>Unrated</td>\n",
              "      <td>NaN</td>\n",
              "      <td>Joseph gets kidnapped and it's the player's jo...</td>\n",
              "      <td>False</td>\n",
              "      <td>False</td>\n",
              "      <td>False</td>\n",
              "      <td>False</td>\n",
              "      <td>False</td>\n",
              "      <td>False</td>\n",
              "      <td>False</td>\n",
              "      <td>False</td>\n",
              "      <td>True</td>\n",
              "    </tr>\n",
              "    <tr>\n",
              "      <th>20802</th>\n",
              "      <td>Shutter</td>\n",
              "      <td>https://www.imdb.com/title/tt5119948/?ref_=adv...</td>\n",
              "      <td>2015.0</td>\n",
              "      <td>NaN</td>\n",
              "      <td>Unrated</td>\n",
              "      <td>NaN</td>\n",
              "      <td>A tech support man who uses a drone to investi...</td>\n",
              "      <td>False</td>\n",
              "      <td>False</td>\n",
              "      <td>False</td>\n",
              "      <td>False</td>\n",
              "      <td>False</td>\n",
              "      <td>False</td>\n",
              "      <td>False</td>\n",
              "      <td>False</td>\n",
              "      <td>True</td>\n",
              "    </tr>\n",
              "    <tr>\n",
              "      <th>20803</th>\n",
              "      <td>The Music Machine</td>\n",
              "      <td>https://www.imdb.com/title/tt5142082/?ref_=adv...</td>\n",
              "      <td>2015.0</td>\n",
              "      <td>NaN</td>\n",
              "      <td>Unrated</td>\n",
              "      <td>NaN</td>\n",
              "      <td>A young teenage girl and the ghost of a dead m...</td>\n",
              "      <td>False</td>\n",
              "      <td>False</td>\n",
              "      <td>False</td>\n",
              "      <td>False</td>\n",
              "      <td>False</td>\n",
              "      <td>False</td>\n",
              "      <td>False</td>\n",
              "      <td>False</td>\n",
              "      <td>True</td>\n",
              "    </tr>\n",
              "    <tr>\n",
              "      <th>20804</th>\n",
              "      <td>Cryptic</td>\n",
              "      <td>https://www.imdb.com/title/tt10964974/?ref_=ad...</td>\n",
              "      <td>2020.0</td>\n",
              "      <td>NaN</td>\n",
              "      <td>Unrated</td>\n",
              "      <td>NaN</td>\n",
              "      <td>Kidnapped by an insane man and dragged into a ...</td>\n",
              "      <td>False</td>\n",
              "      <td>False</td>\n",
              "      <td>False</td>\n",
              "      <td>False</td>\n",
              "      <td>False</td>\n",
              "      <td>False</td>\n",
              "      <td>False</td>\n",
              "      <td>False</td>\n",
              "      <td>True</td>\n",
              "    </tr>\n",
              "  </tbody>\n",
              "</table>\n",
              "<p>20803 rows × 16 columns</p>\n",
              "</div>"
            ],
            "text/plain": [
              "                                      Name  \\\n",
              "0                               Spider-Man   \n",
              "1                   Red Dead Redemption II   \n",
              "2                       Grand Theft Auto V   \n",
              "3                               God of War   \n",
              "4               Uncharted 4: A Thief's End   \n",
              "...                                    ...   \n",
              "20800  Enjoy Your Power, Enjoy Your Choice   \n",
              "20801                           RedSun2020   \n",
              "20802                              Shutter   \n",
              "20803                    The Music Machine   \n",
              "20804                              Cryptic   \n",
              "\n",
              "                                                     URL    Year Certificate  \\\n",
              "0      https://www.imdb.com/title/tt5807780/?ref_=adv...  2018.0           T   \n",
              "1      https://www.imdb.com/title/tt6161168/?ref_=adv...  2018.0           M   \n",
              "2      https://www.imdb.com/title/tt2103188/?ref_=adv...  2013.0           M   \n",
              "3      https://www.imdb.com/title/tt5838588/?ref_=adv...  2018.0           M   \n",
              "4      https://www.imdb.com/title/tt3334704/?ref_=adv...  2016.0           T   \n",
              "...                                                  ...     ...         ...   \n",
              "20800  https://www.imdb.com/title/tt3845606/?ref_=adv...  2014.0         NaN   \n",
              "20801  https://www.imdb.com/title/tt0790739/?ref_=adv...  2004.0         NaN   \n",
              "20802  https://www.imdb.com/title/tt5119948/?ref_=adv...  2015.0         NaN   \n",
              "20803  https://www.imdb.com/title/tt5142082/?ref_=adv...  2015.0         NaN   \n",
              "20804  https://www.imdb.com/title/tt10964974/?ref_=ad...  2020.0         NaN   \n",
              "\n",
              "        Rating    Votes                                       Plot_Summary  \\\n",
              "0          9.2  20759.0  When a new villain threatens New York City, Pe...   \n",
              "1          9.7  35703.0  Amidst the decline of the Wild West at the tur...   \n",
              "2          9.5  59986.0  Three very different criminals team up for a s...   \n",
              "3          9.6  26118.0  After wiping out the gods of Mount Olympus, Kr...   \n",
              "4          9.5  28722.0  Thrown back into the dangerous underworld he'd...   \n",
              "...        ...      ...                                                ...   \n",
              "20800  Unrated      NaN                                         Add a Plot   \n",
              "20801  Unrated      NaN  Joseph gets kidnapped and it's the player's jo...   \n",
              "20802  Unrated      NaN  A tech support man who uses a drone to investi...   \n",
              "20803  Unrated      NaN  A young teenage girl and the ghost of a dead m...   \n",
              "20804  Unrated      NaN  Kidnapped by an insane man and dragged into a ...   \n",
              "\n",
              "       Action  Adventure  Comedy  Crime  Family  Fantasy  Mystery  Sci_Fi  \\\n",
              "0        True       True   False  False   False     True    False   False   \n",
              "1        True       True   False   True   False    False    False   False   \n",
              "2        True      False   False   True   False    False    False   False   \n",
              "3        True       True   False  False   False    False    False   False   \n",
              "4        True       True   False  False   False    False    False   False   \n",
              "...       ...        ...     ...    ...     ...      ...      ...     ...   \n",
              "20800   False      False   False  False   False    False    False   False   \n",
              "20801   False      False   False  False   False    False    False   False   \n",
              "20802   False      False   False  False   False    False    False   False   \n",
              "20803   False      False   False  False   False    False    False   False   \n",
              "20804   False      False   False  False   False    False    False   False   \n",
              "\n",
              "       Thriller  \n",
              "0         False  \n",
              "1         False  \n",
              "2         False  \n",
              "3         False  \n",
              "4         False  \n",
              "...         ...  \n",
              "20800      True  \n",
              "20801      True  \n",
              "20802      True  \n",
              "20803      True  \n",
              "20804      True  \n",
              "\n",
              "[20803 rows x 16 columns]"
            ]
          },
          "execution_count": 271,
          "metadata": {},
          "output_type": "execute_result"
        }
      ],
      "source": [
        "df.Rating.fillna(\"Unrated\", inplace=True)\n",
        "df"
      ]
    },
    {
      "cell_type": "markdown",
      "metadata": {},
      "source": [
        "This is for filling nulls (from all the different columns)\n",
        "don't fill the Nans for rating or certificate because 0 for rating would skew the math values and if you put a 0 for certificate it would not make sense for the dataframe because its a string object (doesn't work for the values)."
      ]
    },
    {
      "cell_type": "code",
      "execution_count": 272,
      "metadata": {},
      "outputs": [],
      "source": [
        "df.Votes.fillna(0, inplace=True)\n",
        "#df.Year.fillna(0, inplace=True)"
      ]
    },
    {
      "cell_type": "markdown",
      "metadata": {},
      "source": [
        "runnining to check the nulls in all the different columns"
      ]
    },
    {
      "cell_type": "code",
      "execution_count": 273,
      "metadata": {},
      "outputs": [
        {
          "name": "stdout",
          "output_type": "stream",
          "text": [
            "<class 'pandas.core.frame.DataFrame'>\n",
            "Int64Index: 20803 entries, 0 to 20804\n",
            "Data columns (total 16 columns):\n",
            " #   Column        Non-Null Count  Dtype  \n",
            "---  ------        --------------  -----  \n",
            " 0   Name          20803 non-null  object \n",
            " 1   URL           20803 non-null  object \n",
            " 2   Year          20536 non-null  float64\n",
            " 3   Certificate   7903 non-null   object \n",
            " 4   Rating        20803 non-null  object \n",
            " 5   Votes         20803 non-null  float64\n",
            " 6   Plot_Summary  20803 non-null  object \n",
            " 7   Action        20803 non-null  bool   \n",
            " 8   Adventure     20803 non-null  bool   \n",
            " 9   Comedy        20803 non-null  bool   \n",
            " 10  Crime         20803 non-null  bool   \n",
            " 11  Family        20803 non-null  bool   \n",
            " 12  Fantasy       20803 non-null  bool   \n",
            " 13  Mystery       20803 non-null  bool   \n",
            " 14  Sci_Fi        20803 non-null  bool   \n",
            " 15  Thriller      20803 non-null  bool   \n",
            "dtypes: bool(9), float64(2), object(5)\n",
            "memory usage: 1.4+ MB\n"
          ]
        }
      ],
      "source": [
        "df.info()"
      ]
    },
    {
      "cell_type": "markdown",
      "metadata": {
        "id": "f0KI193RuKht"
      },
      "source": [
        "## 8. Summarize Categorical Columns"
      ]
    },
    {
      "cell_type": "markdown",
      "metadata": {},
      "source": [
        "Calling the column and their data types to figure out which columns I need to look into for this section."
      ]
    },
    {
      "cell_type": "code",
      "execution_count": 274,
      "metadata": {},
      "outputs": [
        {
          "name": "stdout",
          "output_type": "stream",
          "text": [
            "<class 'pandas.core.frame.DataFrame'>\n",
            "Int64Index: 20803 entries, 0 to 20804\n",
            "Data columns (total 16 columns):\n",
            " #   Column        Non-Null Count  Dtype  \n",
            "---  ------        --------------  -----  \n",
            " 0   Name          20803 non-null  object \n",
            " 1   URL           20803 non-null  object \n",
            " 2   Year          20536 non-null  float64\n",
            " 3   Certificate   7903 non-null   object \n",
            " 4   Rating        20803 non-null  object \n",
            " 5   Votes         20803 non-null  float64\n",
            " 6   Plot_Summary  20803 non-null  object \n",
            " 7   Action        20803 non-null  bool   \n",
            " 8   Adventure     20803 non-null  bool   \n",
            " 9   Comedy        20803 non-null  bool   \n",
            " 10  Crime         20803 non-null  bool   \n",
            " 11  Family        20803 non-null  bool   \n",
            " 12  Fantasy       20803 non-null  bool   \n",
            " 13  Mystery       20803 non-null  bool   \n",
            " 14  Sci_Fi        20803 non-null  bool   \n",
            " 15  Thriller      20803 non-null  bool   \n",
            "dtypes: bool(9), float64(2), object(5)\n",
            "memory usage: 1.4+ MB\n"
          ]
        }
      ],
      "source": [
        "df.info()"
      ]
    },
    {
      "cell_type": "code",
      "execution_count": 275,
      "metadata": {},
      "outputs": [
        {
          "data": {
            "text/plain": [
              "Index(['Name', 'URL', 'Year', 'Certificate', 'Rating', 'Votes', 'Plot_Summary',\n",
              "       'Action', 'Adventure', 'Comedy', 'Crime', 'Family', 'Fantasy',\n",
              "       'Mystery', 'Sci_Fi', 'Thriller'],\n",
              "      dtype='object')"
            ]
          },
          "execution_count": 275,
          "metadata": {},
          "output_type": "execute_result"
        }
      ],
      "source": [
        "df.columns"
      ]
    },
    {
      "cell_type": "markdown",
      "metadata": {},
      "source": [
        "Looking into the different value_counts of all the categorical columns."
      ]
    },
    {
      "cell_type": "code",
      "execution_count": 276,
      "metadata": {},
      "outputs": [
        {
          "data": {
            "text/plain": [
              "True     11930\n",
              "False     8873\n",
              "Name: Action, dtype: int64"
            ]
          },
          "execution_count": 276,
          "metadata": {},
          "output_type": "execute_result"
        }
      ],
      "source": [
        "df.Action.value_counts()"
      ]
    },
    {
      "cell_type": "code",
      "execution_count": 277,
      "metadata": {},
      "outputs": [
        {
          "data": {
            "text/plain": [
              "False    10469\n",
              "True     10334\n",
              "Name: Adventure, dtype: int64"
            ]
          },
          "execution_count": 277,
          "metadata": {},
          "output_type": "execute_result"
        }
      ],
      "source": [
        "df.Adventure.value_counts()"
      ]
    },
    {
      "cell_type": "code",
      "execution_count": 278,
      "metadata": {},
      "outputs": [
        {
          "data": {
            "text/plain": [
              "False    19020\n",
              "True      1783\n",
              "Name: Comedy, dtype: int64"
            ]
          },
          "execution_count": 278,
          "metadata": {},
          "output_type": "execute_result"
        }
      ],
      "source": [
        "df.Comedy.value_counts()"
      ]
    },
    {
      "cell_type": "code",
      "execution_count": 279,
      "metadata": {},
      "outputs": [
        {
          "data": {
            "text/plain": [
              "False    19908\n",
              "True       895\n",
              "Name: Crime, dtype: int64"
            ]
          },
          "execution_count": 279,
          "metadata": {},
          "output_type": "execute_result"
        }
      ],
      "source": [
        "df.Crime.value_counts()"
      ]
    },
    {
      "cell_type": "code",
      "execution_count": 280,
      "metadata": {},
      "outputs": [
        {
          "data": {
            "text/plain": [
              "False    17928\n",
              "True      2875\n",
              "Name: Family, dtype: int64"
            ]
          },
          "execution_count": 280,
          "metadata": {},
          "output_type": "execute_result"
        }
      ],
      "source": [
        "df.Family.value_counts()"
      ]
    },
    {
      "cell_type": "code",
      "execution_count": 281,
      "metadata": {},
      "outputs": [
        {
          "data": {
            "text/plain": [
              "False    16453\n",
              "True      4350\n",
              "Name: Fantasy, dtype: int64"
            ]
          },
          "execution_count": 281,
          "metadata": {},
          "output_type": "execute_result"
        }
      ],
      "source": [
        "df.Fantasy.value_counts()"
      ]
    },
    {
      "cell_type": "code",
      "execution_count": 282,
      "metadata": {},
      "outputs": [
        {
          "data": {
            "text/plain": [
              "False    19618\n",
              "True      1185\n",
              "Name: Mystery, dtype: int64"
            ]
          },
          "execution_count": 282,
          "metadata": {},
          "output_type": "execute_result"
        }
      ],
      "source": [
        "df.Mystery.value_counts()"
      ]
    },
    {
      "cell_type": "code",
      "execution_count": 283,
      "metadata": {},
      "outputs": [
        {
          "data": {
            "text/plain": [
              "False    20280\n",
              "True       523\n",
              "Name: Thriller, dtype: int64"
            ]
          },
          "execution_count": 283,
          "metadata": {},
          "output_type": "execute_result"
        }
      ],
      "source": [
        "df.Thriller.value_counts()"
      ]
    },
    {
      "cell_type": "code",
      "execution_count": 284,
      "metadata": {},
      "outputs": [
        {
          "data": {
            "text/plain": [
              "False    17213\n",
              "True      3590\n",
              "Name: Sci_Fi, dtype: int64"
            ]
          },
          "execution_count": 284,
          "metadata": {},
          "output_type": "execute_result"
        }
      ],
      "source": [
        "df.Sci_Fi.value_counts()"
      ]
    },
    {
      "cell_type": "markdown",
      "metadata": {},
      "source": [
        "The other columns (not the different movie genres)"
      ]
    },
    {
      "cell_type": "code",
      "execution_count": 285,
      "metadata": {},
      "outputs": [
        {
          "data": {
            "text/plain": [
              "Spider-Man                        9\n",
              "God of War                        6\n",
              "Sonic the Hedgehog                6\n",
              "Star Trek                         6\n",
              "Resident Evil 2                   5\n",
              "                                 ..\n",
              "Elevator Action                   1\n",
              "Nobuyuki Forces 4                 1\n",
              "Cross Fire: king of gun battle    1\n",
              "Duke: Nuclear Winter              1\n",
              "Cryptic                           1\n",
              "Name: Name, Length: 19714, dtype: int64"
            ]
          },
          "execution_count": 285,
          "metadata": {},
          "output_type": "execute_result"
        }
      ],
      "source": [
        "df.Name.value_counts()"
      ]
    },
    {
      "cell_type": "code",
      "execution_count": 286,
      "metadata": {},
      "outputs": [
        {
          "data": {
            "text/plain": [
              "https://www.imdb.com/title/tt5807780/?ref_=adv_li_tt     4\n",
              "https://www.imdb.com/title/tt6298000/?ref_=adv_li_tt     4\n",
              "https://www.imdb.com/title/tt1764429/?ref_=adv_li_tt     4\n",
              "https://www.imdb.com/title/tt12693278/?ref_=adv_li_tt    4\n",
              "https://www.imdb.com/title/tt9395474/?ref_=adv_li_tt     4\n",
              "                                                        ..\n",
              "https://www.imdb.com/title/tt0475078/?ref_=adv_li_tt     1\n",
              "https://www.imdb.com/title/tt8170768/?ref_=adv_li_tt     1\n",
              "https://www.imdb.com/title/tt8051086/?ref_=adv_li_tt     1\n",
              "https://www.imdb.com/title/tt13283136/?ref_=adv_li_tt    1\n",
              "https://www.imdb.com/title/tt10964974/?ref_=adv_li_tt    1\n",
              "Name: URL, Length: 20157, dtype: int64"
            ]
          },
          "execution_count": 286,
          "metadata": {},
          "output_type": "execute_result"
        }
      ],
      "source": [
        "df.URL.value_counts()"
      ]
    },
    {
      "cell_type": "code",
      "execution_count": 287,
      "metadata": {},
      "outputs": [
        {
          "data": {
            "text/plain": [
              "T            2474\n",
              "E            2006\n",
              "M            1820\n",
              "E10+          814\n",
              "Unrated       241\n",
              "K-A           227\n",
              "Not Rated     184\n",
              "AO             32\n",
              "GA             26\n",
              "EC             25\n",
              "CE             13\n",
              "12              9\n",
              "PG-13           7\n",
              "MA-13           7\n",
              "Approved        4\n",
              "G               4\n",
              "MA-17           3\n",
              "PG              3\n",
              "TV-MA           2\n",
              "Passed          1\n",
              "TV-14           1\n",
              "Name: Certificate, dtype: int64"
            ]
          },
          "execution_count": 287,
          "metadata": {},
          "output_type": "execute_result"
        }
      ],
      "source": [
        "df.Certificate.value_counts()"
      ]
    },
    {
      "cell_type": "code",
      "execution_count": 288,
      "metadata": {},
      "outputs": [
        {
          "data": {
            "text/plain": [
              "Add a Plot                                                                                                                                                                                                                       8874\n",
              "A Pokémon trainer adventures through the Kanto Region to achieve their destiny of becoming a Pokemon Champion.                                                                                                                      5\n",
              "Zen Pinball features hit tables based on some of the biggest brands in entertainment, including Marvel Comics, Star Wars, ALIEN, The Walking Dead and more, Zen Pinball is your go-to place for all of your pinball cravings.       5\n",
              "The player is the Stranger, an unknown person mysteriously transported to the island of Myst. Alone and without clues, the Stranger must solve the mysteries and discover the secrets of this strange place.                        5\n",
              "When a new villain threatens New York City, Peter Parker and Spider-Man's worlds collide. To save the city and those he loves, he must rise up and be greater.                                                                      4\n",
              "                                                                                                                                                                                                                                 ... \n",
              "Set in a post-apocalyptic future, Armored Core 3 depicts a world where mankind has begun to live underneath the Earth's surface after a catastrophic global nuclear war broke out on the ... See full summary »                     1\n",
              "Choose your side and enter a war for independence, Fight along side a Joint Force to neutralize the threat, or fight for independence as a separatist.                                                                              1\n",
              "Kogama is a construction online game where you can create and share your own games, sell your creations on the market and play all types of games created by the community.                                                         1\n",
              "Dungeons and Dragons: Chronicles of Mystara is an enhanced re-release of Dungeons and Dragons: Tower of Doom and Dungeons and Dragons: Shadow over Mystara. Besides the obvious differences ... See full summary »                  1\n",
              "Kidnapped by an insane man and dragged into a dark crypt, your only choice is to play along with his twisted games or suffer the consequences for non-compliance.                                                                   1\n",
              "Name: Plot_Summary, Length: 11276, dtype: int64"
            ]
          },
          "execution_count": 288,
          "metadata": {},
          "output_type": "execute_result"
        }
      ],
      "source": [
        "df.Plot_Summary.value_counts()"
      ]
    },
    {
      "cell_type": "markdown",
      "metadata": {
        "id": "r1CzPaIEtsA9"
      },
      "source": [
        "## 9. Summarize Numeric Columns"
      ]
    },
    {
      "cell_type": "markdown",
      "metadata": {},
      "source": [
        "Gives a brief overview of the numerical columns."
      ]
    },
    {
      "cell_type": "code",
      "execution_count": 289,
      "metadata": {
        "colab": {
          "base_uri": "https://localhost:8080/"
        },
        "id": "0h3pRK6UlXt2",
        "outputId": "ea447c07-84e8-49ff-a363-1c337072c356"
      },
      "outputs": [
        {
          "data": {
            "text/html": [
              "<div>\n",
              "<style scoped>\n",
              "    .dataframe tbody tr th:only-of-type {\n",
              "        vertical-align: middle;\n",
              "    }\n",
              "\n",
              "    .dataframe tbody tr th {\n",
              "        vertical-align: top;\n",
              "    }\n",
              "\n",
              "    .dataframe thead th {\n",
              "        text-align: right;\n",
              "    }\n",
              "</style>\n",
              "<table border=\"1\" class=\"dataframe\">\n",
              "  <thead>\n",
              "    <tr style=\"text-align: right;\">\n",
              "      <th></th>\n",
              "      <th>Year</th>\n",
              "      <th>Votes</th>\n",
              "    </tr>\n",
              "  </thead>\n",
              "  <tbody>\n",
              "    <tr>\n",
              "      <th>count</th>\n",
              "      <td>20536.000000</td>\n",
              "      <td>20803.000000</td>\n",
              "    </tr>\n",
              "    <tr>\n",
              "      <th>mean</th>\n",
              "      <td>2005.568611</td>\n",
              "      <td>351.629573</td>\n",
              "    </tr>\n",
              "    <tr>\n",
              "      <th>std</th>\n",
              "      <td>11.846028</td>\n",
              "      <td>2042.666328</td>\n",
              "    </tr>\n",
              "    <tr>\n",
              "      <th>min</th>\n",
              "      <td>1952.000000</td>\n",
              "      <td>0.000000</td>\n",
              "    </tr>\n",
              "    <tr>\n",
              "      <th>25%</th>\n",
              "      <td>1997.000000</td>\n",
              "      <td>0.000000</td>\n",
              "    </tr>\n",
              "    <tr>\n",
              "      <th>50%</th>\n",
              "      <td>2008.000000</td>\n",
              "      <td>9.000000</td>\n",
              "    </tr>\n",
              "    <tr>\n",
              "      <th>75%</th>\n",
              "      <td>2016.000000</td>\n",
              "      <td>61.000000</td>\n",
              "    </tr>\n",
              "    <tr>\n",
              "      <th>max</th>\n",
              "      <td>2027.000000</td>\n",
              "      <td>60597.000000</td>\n",
              "    </tr>\n",
              "  </tbody>\n",
              "</table>\n",
              "</div>"
            ],
            "text/plain": [
              "               Year         Votes\n",
              "count  20536.000000  20803.000000\n",
              "mean    2005.568611    351.629573\n",
              "std       11.846028   2042.666328\n",
              "min     1952.000000      0.000000\n",
              "25%     1997.000000      0.000000\n",
              "50%     2008.000000      9.000000\n",
              "75%     2016.000000     61.000000\n",
              "max     2027.000000  60597.000000"
            ]
          },
          "execution_count": 289,
          "metadata": {},
          "output_type": "execute_result"
        }
      ],
      "source": [
        "df.describe()"
      ]
    },
    {
      "cell_type": "code",
      "execution_count": 290,
      "metadata": {},
      "outputs": [
        {
          "data": {
            "text/plain": [
              "0.0       9203\n",
              "7.0        318\n",
              "9.0        295\n",
              "8.0        294\n",
              "10.0       287\n",
              "          ... \n",
              "2325.0       1\n",
              "5028.0       1\n",
              "948.0        1\n",
              "1253.0       1\n",
              "3025.0       1\n",
              "Name: Votes, Length: 1906, dtype: int64"
            ]
          },
          "execution_count": 290,
          "metadata": {},
          "output_type": "execute_result"
        }
      ],
      "source": [
        "df.Votes.value_counts()"
      ]
    },
    {
      "cell_type": "code",
      "execution_count": 291,
      "metadata": {},
      "outputs": [
        {
          "data": {
            "text/plain": [
              "2019.0    956\n",
              "2018.0    872\n",
              "2017.0    863\n",
              "2016.0    828\n",
              "2015.0    761\n",
              "         ... \n",
              "1969.0      2\n",
              "1962.0      2\n",
              "1952.0      1\n",
              "1964.0      1\n",
              "2027.0      1\n",
              "Name: Year, Length: 61, dtype: int64"
            ]
          },
          "execution_count": 291,
          "metadata": {},
          "output_type": "execute_result"
        }
      ],
      "source": [
        "df.Year.value_counts()"
      ]
    },
    {
      "cell_type": "code",
      "execution_count": 292,
      "metadata": {},
      "outputs": [
        {
          "data": {
            "text/plain": [
              "Unrated    9203\n",
              "7.4         493\n",
              "7.5         470\n",
              "7.6         452\n",
              "7.2         450\n",
              "           ... \n",
              "1.7           4\n",
              "1.5           3\n",
              "1.3           3\n",
              "1.4           1\n",
              "1.0           1\n",
              "Name: Rating, Length: 87, dtype: int64"
            ]
          },
          "execution_count": 292,
          "metadata": {},
          "output_type": "execute_result"
        }
      ],
      "source": [
        "df.Rating.value_counts()"
      ]
    }
  ],
  "metadata": {
    "colab": {
      "authorship_tag": "ABX9TyPG+ssWMxKywRQDkeiR9E1U",
      "include_colab_link": true,
      "mount_file_id": "1V16IS1TA0CmRy78Zy03QMP9hHtjmYEcW",
      "name": "EDA_10Steps.ipynb",
      "provenance": []
    },
    "kernelspec": {
      "display_name": "Python 3.9.12 ('base')",
      "language": "python",
      "name": "python3"
    },
    "language_info": {
      "codemirror_mode": {
        "name": "ipython",
        "version": 3
      },
      "file_extension": ".py",
      "mimetype": "text/x-python",
      "name": "python",
      "nbconvert_exporter": "python",
      "pygments_lexer": "ipython3",
      "version": "3.9.12"
    },
    "vscode": {
      "interpreter": {
        "hash": "44e683781f8e40e3eb7fe1662972c59cc4a4fec9187a03146bb2a87b4d81cf31"
      }
    }
  },
  "nbformat": 4,
  "nbformat_minor": 0
}
